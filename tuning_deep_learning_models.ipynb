{
  "cells": [
    {
      "cell_type": "markdown",
      "metadata": {
        "id": "view-in-github",
        "colab_type": "text"
      },
      "source": [
        "<a href=\"https://colab.research.google.com/github/jiashenyue/house-price-prediction/blob/main/tuning_deep_learning_models.ipynb\" target=\"_parent\"><img src=\"https://colab.research.google.com/assets/colab-badge.svg\" alt=\"Open In Colab\"/></a>"
      ]
    },
    {
      "cell_type": "markdown",
      "metadata": {
        "id": "Lmp3JoP2nQzp"
      },
      "source": [
        "# House sales prediction\n",
        "\n",
        "Shenyue Jia | [jiashenyue.info](https://jiashenyue.info)\n",
        "\n",
        "- In this notebook, we will build and improve a deep learning model to predict the house price, using data from this [Kaggle competition](https://www.kaggle.com/competitions/house-prices-advanced-regression-techniques/overview)."
      ]
    },
    {
      "cell_type": "code",
      "execution_count": 242,
      "metadata": {
        "id": "fu6bkefYnK-j"
      },
      "outputs": [],
      "source": [
        "# Imports\n",
        "import pandas as pd\n",
        "import numpy as np\n",
        "import matplotlib.pyplot as plt\n",
        "import seaborn as sns\n",
        "from seaborn import heatmap\n",
        "\n",
        "from sklearn.model_selection import train_test_split\n",
        "from sklearn.preprocessing import StandardScaler, OneHotEncoder\n",
        "from sklearn.compose import make_column_selector, make_column_transformer\n",
        "\n",
        "from sklearn.metrics import mean_absolute_error, r2_score, mean_squared_error, \\\n",
        "precision_score, recall_score, accuracy_score, f1_score, ConfusionMatrixDisplay, \\\n",
        "classification_report\n",
        "\n",
        "from sklearn.pipeline import make_pipeline\n",
        "from sklearn.impute import SimpleImputer\n",
        "\n",
        "\n",
        "# Deep learning libraries\n",
        "from tensorflow import keras\n",
        "from keras.layers import Dense, Dropout\n",
        "from keras.models import Sequential\n",
        "from keras import metrics\n",
        "from keras.callbacks import EarlyStopping\n",
        "\n",
        "import warnings\n",
        "warnings.filterwarnings('ignore')"
      ]
    },
    {
      "cell_type": "markdown",
      "metadata": {
        "id": "Vrdzw2ow2f7q"
      },
      "source": [
        "**Useful Functions**\n",
        "\n",
        "- The functions are from the [Week 10 Lecture 2 Feature Engineering notebook](https://github.com/coding-dojo-data-science/week-10-lecture-2-feature-engineering/blob/11-7-22/SOLUTION%20Feature%20Engineering%20Code-along.ipynb)."
      ]
    },
    {
      "cell_type": "code",
      "execution_count": 243,
      "metadata": {
        "id": "pr2Oayig2iFR"
      },
      "outputs": [],
      "source": [
        "def eval_regression(true, pred, name='Model'):\n",
        "  scores = pd.DataFrame()\n",
        "  scores['Model Name'] = [name]\n",
        "  scores['RMSE'] = [np.sqrt(mean_squared_error(true, pred))]\n",
        "  scores['MAE'] = [mean_absolute_error(true, pred)]\n",
        "  scores['R2'] = [r2_score(true, pred)]\n",
        "  return scores\n",
        "\n",
        "def plot_history(history):\n",
        "  \"\"\"Takes a keras model learning history and plots each metric\"\"\"\n",
        "  \n",
        "  metrics = history.history.keys()\n",
        "  \n",
        "  for metric in metrics:\n",
        "      if not 'val' in metric:\n",
        "        plt.plot(history.history[f'{metric}'], label=f'{metric}')\n",
        "        if f'val_{metric}' in metrics:\n",
        "          plt.plot(history.history[f'val_{metric}'], label=f'val_{metric}')\n",
        "        plt.legend()\n",
        "        plt.title(f'{metric}')\n",
        "        plt.show()"
      ]
    },
    {
      "cell_type": "markdown",
      "metadata": {
        "id": "TdIxE4xgNU3m"
      },
      "source": [
        "## Data\n",
        "\n",
        "Data is obtained from this [Kaggle competition](https://www.kaggle.com/competitions/house-prices-advanced-regression-techniques/overview). \n",
        "- `train.csv` will be used to train the model\n",
        "- Trained model will be applied to test data from `test.csv`"
      ]
    },
    {
      "cell_type": "code",
      "execution_count": 244,
      "metadata": {
        "colab": {
          "base_uri": "https://localhost:8080/",
          "height": 348
        },
        "id": "FJb74mnanWAY",
        "outputId": "60c12d8b-373a-4958-9a4c-942722bf083a"
      },
      "outputs": [
        {
          "output_type": "display_data",
          "data": {
            "text/plain": [
              "    MSSubClass MSZoning  LotFrontage  LotArea Street Alley LotShape  \\\n",
              "Id                                                                    \n",
              "1           60       RL         65.0     8450   Pave   NaN      Reg   \n",
              "2           20       RL         80.0     9600   Pave   NaN      Reg   \n",
              "3           60       RL         68.0    11250   Pave   NaN      IR1   \n",
              "4           70       RL         60.0     9550   Pave   NaN      IR1   \n",
              "5           60       RL         84.0    14260   Pave   NaN      IR1   \n",
              "\n",
              "   LandContour Utilities LotConfig  ... PoolArea PoolQC Fence MiscFeature  \\\n",
              "Id                                  ...                                     \n",
              "1          Lvl    AllPub    Inside  ...        0    NaN   NaN         NaN   \n",
              "2          Lvl    AllPub       FR2  ...        0    NaN   NaN         NaN   \n",
              "3          Lvl    AllPub    Inside  ...        0    NaN   NaN         NaN   \n",
              "4          Lvl    AllPub    Corner  ...        0    NaN   NaN         NaN   \n",
              "5          Lvl    AllPub       FR2  ...        0    NaN   NaN         NaN   \n",
              "\n",
              "   MiscVal MoSold  YrSold  SaleType  SaleCondition  SalePrice  \n",
              "Id                                                             \n",
              "1        0      2    2008        WD         Normal     208500  \n",
              "2        0      5    2007        WD         Normal     181500  \n",
              "3        0      9    2008        WD         Normal     223500  \n",
              "4        0      2    2006        WD        Abnorml     140000  \n",
              "5        0     12    2008        WD         Normal     250000  \n",
              "\n",
              "[5 rows x 80 columns]"
            ],
            "text/html": [
              "\n",
              "  <div id=\"df-cb02e719-21b7-4c93-8581-53fedc58b9aa\">\n",
              "    <div class=\"colab-df-container\">\n",
              "      <div>\n",
              "<style scoped>\n",
              "    .dataframe tbody tr th:only-of-type {\n",
              "        vertical-align: middle;\n",
              "    }\n",
              "\n",
              "    .dataframe tbody tr th {\n",
              "        vertical-align: top;\n",
              "    }\n",
              "\n",
              "    .dataframe thead th {\n",
              "        text-align: right;\n",
              "    }\n",
              "</style>\n",
              "<table border=\"1\" class=\"dataframe\">\n",
              "  <thead>\n",
              "    <tr style=\"text-align: right;\">\n",
              "      <th></th>\n",
              "      <th>MSSubClass</th>\n",
              "      <th>MSZoning</th>\n",
              "      <th>LotFrontage</th>\n",
              "      <th>LotArea</th>\n",
              "      <th>Street</th>\n",
              "      <th>Alley</th>\n",
              "      <th>LotShape</th>\n",
              "      <th>LandContour</th>\n",
              "      <th>Utilities</th>\n",
              "      <th>LotConfig</th>\n",
              "      <th>...</th>\n",
              "      <th>PoolArea</th>\n",
              "      <th>PoolQC</th>\n",
              "      <th>Fence</th>\n",
              "      <th>MiscFeature</th>\n",
              "      <th>MiscVal</th>\n",
              "      <th>MoSold</th>\n",
              "      <th>YrSold</th>\n",
              "      <th>SaleType</th>\n",
              "      <th>SaleCondition</th>\n",
              "      <th>SalePrice</th>\n",
              "    </tr>\n",
              "    <tr>\n",
              "      <th>Id</th>\n",
              "      <th></th>\n",
              "      <th></th>\n",
              "      <th></th>\n",
              "      <th></th>\n",
              "      <th></th>\n",
              "      <th></th>\n",
              "      <th></th>\n",
              "      <th></th>\n",
              "      <th></th>\n",
              "      <th></th>\n",
              "      <th></th>\n",
              "      <th></th>\n",
              "      <th></th>\n",
              "      <th></th>\n",
              "      <th></th>\n",
              "      <th></th>\n",
              "      <th></th>\n",
              "      <th></th>\n",
              "      <th></th>\n",
              "      <th></th>\n",
              "      <th></th>\n",
              "    </tr>\n",
              "  </thead>\n",
              "  <tbody>\n",
              "    <tr>\n",
              "      <th>1</th>\n",
              "      <td>60</td>\n",
              "      <td>RL</td>\n",
              "      <td>65.0</td>\n",
              "      <td>8450</td>\n",
              "      <td>Pave</td>\n",
              "      <td>NaN</td>\n",
              "      <td>Reg</td>\n",
              "      <td>Lvl</td>\n",
              "      <td>AllPub</td>\n",
              "      <td>Inside</td>\n",
              "      <td>...</td>\n",
              "      <td>0</td>\n",
              "      <td>NaN</td>\n",
              "      <td>NaN</td>\n",
              "      <td>NaN</td>\n",
              "      <td>0</td>\n",
              "      <td>2</td>\n",
              "      <td>2008</td>\n",
              "      <td>WD</td>\n",
              "      <td>Normal</td>\n",
              "      <td>208500</td>\n",
              "    </tr>\n",
              "    <tr>\n",
              "      <th>2</th>\n",
              "      <td>20</td>\n",
              "      <td>RL</td>\n",
              "      <td>80.0</td>\n",
              "      <td>9600</td>\n",
              "      <td>Pave</td>\n",
              "      <td>NaN</td>\n",
              "      <td>Reg</td>\n",
              "      <td>Lvl</td>\n",
              "      <td>AllPub</td>\n",
              "      <td>FR2</td>\n",
              "      <td>...</td>\n",
              "      <td>0</td>\n",
              "      <td>NaN</td>\n",
              "      <td>NaN</td>\n",
              "      <td>NaN</td>\n",
              "      <td>0</td>\n",
              "      <td>5</td>\n",
              "      <td>2007</td>\n",
              "      <td>WD</td>\n",
              "      <td>Normal</td>\n",
              "      <td>181500</td>\n",
              "    </tr>\n",
              "    <tr>\n",
              "      <th>3</th>\n",
              "      <td>60</td>\n",
              "      <td>RL</td>\n",
              "      <td>68.0</td>\n",
              "      <td>11250</td>\n",
              "      <td>Pave</td>\n",
              "      <td>NaN</td>\n",
              "      <td>IR1</td>\n",
              "      <td>Lvl</td>\n",
              "      <td>AllPub</td>\n",
              "      <td>Inside</td>\n",
              "      <td>...</td>\n",
              "      <td>0</td>\n",
              "      <td>NaN</td>\n",
              "      <td>NaN</td>\n",
              "      <td>NaN</td>\n",
              "      <td>0</td>\n",
              "      <td>9</td>\n",
              "      <td>2008</td>\n",
              "      <td>WD</td>\n",
              "      <td>Normal</td>\n",
              "      <td>223500</td>\n",
              "    </tr>\n",
              "    <tr>\n",
              "      <th>4</th>\n",
              "      <td>70</td>\n",
              "      <td>RL</td>\n",
              "      <td>60.0</td>\n",
              "      <td>9550</td>\n",
              "      <td>Pave</td>\n",
              "      <td>NaN</td>\n",
              "      <td>IR1</td>\n",
              "      <td>Lvl</td>\n",
              "      <td>AllPub</td>\n",
              "      <td>Corner</td>\n",
              "      <td>...</td>\n",
              "      <td>0</td>\n",
              "      <td>NaN</td>\n",
              "      <td>NaN</td>\n",
              "      <td>NaN</td>\n",
              "      <td>0</td>\n",
              "      <td>2</td>\n",
              "      <td>2006</td>\n",
              "      <td>WD</td>\n",
              "      <td>Abnorml</td>\n",
              "      <td>140000</td>\n",
              "    </tr>\n",
              "    <tr>\n",
              "      <th>5</th>\n",
              "      <td>60</td>\n",
              "      <td>RL</td>\n",
              "      <td>84.0</td>\n",
              "      <td>14260</td>\n",
              "      <td>Pave</td>\n",
              "      <td>NaN</td>\n",
              "      <td>IR1</td>\n",
              "      <td>Lvl</td>\n",
              "      <td>AllPub</td>\n",
              "      <td>FR2</td>\n",
              "      <td>...</td>\n",
              "      <td>0</td>\n",
              "      <td>NaN</td>\n",
              "      <td>NaN</td>\n",
              "      <td>NaN</td>\n",
              "      <td>0</td>\n",
              "      <td>12</td>\n",
              "      <td>2008</td>\n",
              "      <td>WD</td>\n",
              "      <td>Normal</td>\n",
              "      <td>250000</td>\n",
              "    </tr>\n",
              "  </tbody>\n",
              "</table>\n",
              "<p>5 rows × 80 columns</p>\n",
              "</div>\n",
              "      <button class=\"colab-df-convert\" onclick=\"convertToInteractive('df-cb02e719-21b7-4c93-8581-53fedc58b9aa')\"\n",
              "              title=\"Convert this dataframe to an interactive table.\"\n",
              "              style=\"display:none;\">\n",
              "        \n",
              "  <svg xmlns=\"http://www.w3.org/2000/svg\" height=\"24px\"viewBox=\"0 0 24 24\"\n",
              "       width=\"24px\">\n",
              "    <path d=\"M0 0h24v24H0V0z\" fill=\"none\"/>\n",
              "    <path d=\"M18.56 5.44l.94 2.06.94-2.06 2.06-.94-2.06-.94-.94-2.06-.94 2.06-2.06.94zm-11 1L8.5 8.5l.94-2.06 2.06-.94-2.06-.94L8.5 2.5l-.94 2.06-2.06.94zm10 10l.94 2.06.94-2.06 2.06-.94-2.06-.94-.94-2.06-.94 2.06-2.06.94z\"/><path d=\"M17.41 7.96l-1.37-1.37c-.4-.4-.92-.59-1.43-.59-.52 0-1.04.2-1.43.59L10.3 9.45l-7.72 7.72c-.78.78-.78 2.05 0 2.83L4 21.41c.39.39.9.59 1.41.59.51 0 1.02-.2 1.41-.59l7.78-7.78 2.81-2.81c.8-.78.8-2.07 0-2.86zM5.41 20L4 18.59l7.72-7.72 1.47 1.35L5.41 20z\"/>\n",
              "  </svg>\n",
              "      </button>\n",
              "      \n",
              "  <style>\n",
              "    .colab-df-container {\n",
              "      display:flex;\n",
              "      flex-wrap:wrap;\n",
              "      gap: 12px;\n",
              "    }\n",
              "\n",
              "    .colab-df-convert {\n",
              "      background-color: #E8F0FE;\n",
              "      border: none;\n",
              "      border-radius: 50%;\n",
              "      cursor: pointer;\n",
              "      display: none;\n",
              "      fill: #1967D2;\n",
              "      height: 32px;\n",
              "      padding: 0 0 0 0;\n",
              "      width: 32px;\n",
              "    }\n",
              "\n",
              "    .colab-df-convert:hover {\n",
              "      background-color: #E2EBFA;\n",
              "      box-shadow: 0px 1px 2px rgba(60, 64, 67, 0.3), 0px 1px 3px 1px rgba(60, 64, 67, 0.15);\n",
              "      fill: #174EA6;\n",
              "    }\n",
              "\n",
              "    [theme=dark] .colab-df-convert {\n",
              "      background-color: #3B4455;\n",
              "      fill: #D2E3FC;\n",
              "    }\n",
              "\n",
              "    [theme=dark] .colab-df-convert:hover {\n",
              "      background-color: #434B5C;\n",
              "      box-shadow: 0px 1px 3px 1px rgba(0, 0, 0, 0.15);\n",
              "      filter: drop-shadow(0px 1px 2px rgba(0, 0, 0, 0.3));\n",
              "      fill: #FFFFFF;\n",
              "    }\n",
              "  </style>\n",
              "\n",
              "      <script>\n",
              "        const buttonEl =\n",
              "          document.querySelector('#df-cb02e719-21b7-4c93-8581-53fedc58b9aa button.colab-df-convert');\n",
              "        buttonEl.style.display =\n",
              "          google.colab.kernel.accessAllowed ? 'block' : 'none';\n",
              "\n",
              "        async function convertToInteractive(key) {\n",
              "          const element = document.querySelector('#df-cb02e719-21b7-4c93-8581-53fedc58b9aa');\n",
              "          const dataTable =\n",
              "            await google.colab.kernel.invokeFunction('convertToInteractive',\n",
              "                                                     [key], {});\n",
              "          if (!dataTable) return;\n",
              "\n",
              "          const docLinkHtml = 'Like what you see? Visit the ' +\n",
              "            '<a target=\"_blank\" href=https://colab.research.google.com/notebooks/data_table.ipynb>data table notebook</a>'\n",
              "            + ' to learn more about interactive tables.';\n",
              "          element.innerHTML = '';\n",
              "          dataTable['output_type'] = 'display_data';\n",
              "          await google.colab.output.renderOutput(dataTable, element);\n",
              "          const docLink = document.createElement('div');\n",
              "          docLink.innerHTML = docLinkHtml;\n",
              "          element.appendChild(docLink);\n",
              "        }\n",
              "      </script>\n",
              "    </div>\n",
              "  </div>\n",
              "  "
            ]
          },
          "metadata": {}
        },
        {
          "output_type": "stream",
          "name": "stdout",
          "text": [
            "(1460, 80)\n"
          ]
        }
      ],
      "source": [
        "# load data\n",
        "url = 'https://drive.google.com/file/d/1p4eiY1emCtB2pU7sII6DFe7FZkA5JFeG/view?usp=share_link'\n",
        "url='https://drive.google.com/uc?id=' + url.split('/')[-2]\n",
        "\n",
        "df = pd.read_csv(url, index_col=[0])\n",
        "df_backup = df.copy()\n",
        "\n",
        "display(df.head())\n",
        "print(df.shape)"
      ]
    },
    {
      "cell_type": "code",
      "source": [
        "# check column info\n",
        "df.info()"
      ],
      "metadata": {
        "colab": {
          "base_uri": "https://localhost:8080/"
        },
        "id": "oqSvifrFh8y-",
        "outputId": "8845038a-9560-4839-cb54-0f57b013199f"
      },
      "execution_count": 245,
      "outputs": [
        {
          "output_type": "stream",
          "name": "stdout",
          "text": [
            "<class 'pandas.core.frame.DataFrame'>\n",
            "Int64Index: 1460 entries, 1 to 1460\n",
            "Data columns (total 80 columns):\n",
            " #   Column         Non-Null Count  Dtype  \n",
            "---  ------         --------------  -----  \n",
            " 0   MSSubClass     1460 non-null   int64  \n",
            " 1   MSZoning       1460 non-null   object \n",
            " 2   LotFrontage    1201 non-null   float64\n",
            " 3   LotArea        1460 non-null   int64  \n",
            " 4   Street         1460 non-null   object \n",
            " 5   Alley          91 non-null     object \n",
            " 6   LotShape       1460 non-null   object \n",
            " 7   LandContour    1460 non-null   object \n",
            " 8   Utilities      1460 non-null   object \n",
            " 9   LotConfig      1460 non-null   object \n",
            " 10  LandSlope      1460 non-null   object \n",
            " 11  Neighborhood   1460 non-null   object \n",
            " 12  Condition1     1460 non-null   object \n",
            " 13  Condition2     1460 non-null   object \n",
            " 14  BldgType       1460 non-null   object \n",
            " 15  HouseStyle     1460 non-null   object \n",
            " 16  OverallQual    1460 non-null   int64  \n",
            " 17  OverallCond    1460 non-null   int64  \n",
            " 18  YearBuilt      1460 non-null   int64  \n",
            " 19  YearRemodAdd   1460 non-null   int64  \n",
            " 20  RoofStyle      1460 non-null   object \n",
            " 21  RoofMatl       1460 non-null   object \n",
            " 22  Exterior1st    1460 non-null   object \n",
            " 23  Exterior2nd    1460 non-null   object \n",
            " 24  MasVnrType     1452 non-null   object \n",
            " 25  MasVnrArea     1452 non-null   float64\n",
            " 26  ExterQual      1460 non-null   object \n",
            " 27  ExterCond      1460 non-null   object \n",
            " 28  Foundation     1460 non-null   object \n",
            " 29  BsmtQual       1423 non-null   object \n",
            " 30  BsmtCond       1423 non-null   object \n",
            " 31  BsmtExposure   1422 non-null   object \n",
            " 32  BsmtFinType1   1423 non-null   object \n",
            " 33  BsmtFinSF1     1460 non-null   int64  \n",
            " 34  BsmtFinType2   1422 non-null   object \n",
            " 35  BsmtFinSF2     1460 non-null   int64  \n",
            " 36  BsmtUnfSF      1460 non-null   int64  \n",
            " 37  TotalBsmtSF    1460 non-null   int64  \n",
            " 38  Heating        1460 non-null   object \n",
            " 39  HeatingQC      1460 non-null   object \n",
            " 40  CentralAir     1460 non-null   object \n",
            " 41  Electrical     1459 non-null   object \n",
            " 42  1stFlrSF       1460 non-null   int64  \n",
            " 43  2ndFlrSF       1460 non-null   int64  \n",
            " 44  LowQualFinSF   1460 non-null   int64  \n",
            " 45  GrLivArea      1460 non-null   int64  \n",
            " 46  BsmtFullBath   1460 non-null   int64  \n",
            " 47  BsmtHalfBath   1460 non-null   int64  \n",
            " 48  FullBath       1460 non-null   int64  \n",
            " 49  HalfBath       1460 non-null   int64  \n",
            " 50  BedroomAbvGr   1460 non-null   int64  \n",
            " 51  KitchenAbvGr   1460 non-null   int64  \n",
            " 52  KitchenQual    1460 non-null   object \n",
            " 53  TotRmsAbvGrd   1460 non-null   int64  \n",
            " 54  Functional     1460 non-null   object \n",
            " 55  Fireplaces     1460 non-null   int64  \n",
            " 56  FireplaceQu    770 non-null    object \n",
            " 57  GarageType     1379 non-null   object \n",
            " 58  GarageYrBlt    1379 non-null   float64\n",
            " 59  GarageFinish   1379 non-null   object \n",
            " 60  GarageCars     1460 non-null   int64  \n",
            " 61  GarageArea     1460 non-null   int64  \n",
            " 62  GarageQual     1379 non-null   object \n",
            " 63  GarageCond     1379 non-null   object \n",
            " 64  PavedDrive     1460 non-null   object \n",
            " 65  WoodDeckSF     1460 non-null   int64  \n",
            " 66  OpenPorchSF    1460 non-null   int64  \n",
            " 67  EnclosedPorch  1460 non-null   int64  \n",
            " 68  3SsnPorch      1460 non-null   int64  \n",
            " 69  ScreenPorch    1460 non-null   int64  \n",
            " 70  PoolArea       1460 non-null   int64  \n",
            " 71  PoolQC         7 non-null      object \n",
            " 72  Fence          281 non-null    object \n",
            " 73  MiscFeature    54 non-null     object \n",
            " 74  MiscVal        1460 non-null   int64  \n",
            " 75  MoSold         1460 non-null   int64  \n",
            " 76  YrSold         1460 non-null   int64  \n",
            " 77  SaleType       1460 non-null   object \n",
            " 78  SaleCondition  1460 non-null   object \n",
            " 79  SalePrice      1460 non-null   int64  \n",
            "dtypes: float64(3), int64(34), object(43)\n",
            "memory usage: 923.9+ KB\n"
          ]
        }
      ]
    },
    {
      "cell_type": "markdown",
      "metadata": {
        "id": "j5Ep8q1T02el"
      },
      "source": [
        "## Explore and clean the data\n",
        "1. Drop any duplicates\n",
        "2. Look for missing values.  If you want to drop rows or columns, now is the time.  Wait on imputing until after the split.\n",
        "3. Check inconsistencies"
      ]
    },
    {
      "cell_type": "markdown",
      "source": [
        "### Check duplicates values"
      ],
      "metadata": {
        "id": "B1l5zKYouIbp"
      }
    },
    {
      "cell_type": "code",
      "execution_count": 246,
      "metadata": {
        "colab": {
          "base_uri": "https://localhost:8080/"
        },
        "id": "jpf0LSXexRPy",
        "outputId": "1cb26e44-f5dc-4e40-d212-9bfe94a8e1da"
      },
      "outputs": [
        {
          "output_type": "stream",
          "name": "stdout",
          "text": [
            "There is no duplicated rows in the dataframe.\n"
          ]
        }
      ],
      "source": [
        "# check for duplicates\n",
        "if df.duplicated().sum()>0:\n",
        "  # drop duplicates\n",
        "  print(f'Removed {df.duplicated().sum()} duplicated rows.')\n",
        "  df.drop_duplicates()\n",
        "else:\n",
        "  print('There is no duplicated rows in the dataframe.')"
      ]
    },
    {
      "cell_type": "markdown",
      "source": [
        "### Check missing values"
      ],
      "metadata": {
        "id": "s78S_biToahE"
      }
    },
    {
      "cell_type": "code",
      "execution_count": 247,
      "metadata": {
        "colab": {
          "base_uri": "https://localhost:8080/"
        },
        "id": "VjksV-Zn0gbl",
        "outputId": "931d21c8-940a-44a9-ebfd-c606821a2162"
      },
      "outputs": [
        {
          "output_type": "stream",
          "name": "stdout",
          "text": [
            "MSSubClass        0.000000\n",
            "MSZoning          0.000000\n",
            "LotFrontage      17.739726\n",
            "LotArea           0.000000\n",
            "Street            0.000000\n",
            "Alley            93.767123\n",
            "LotShape          0.000000\n",
            "LandContour       0.000000\n",
            "Utilities         0.000000\n",
            "LotConfig         0.000000\n",
            "LandSlope         0.000000\n",
            "Neighborhood      0.000000\n",
            "Condition1        0.000000\n",
            "Condition2        0.000000\n",
            "BldgType          0.000000\n",
            "HouseStyle        0.000000\n",
            "OverallQual       0.000000\n",
            "OverallCond       0.000000\n",
            "YearBuilt         0.000000\n",
            "YearRemodAdd      0.000000\n",
            "RoofStyle         0.000000\n",
            "RoofMatl          0.000000\n",
            "Exterior1st       0.000000\n",
            "Exterior2nd       0.000000\n",
            "MasVnrType        0.547945\n",
            "MasVnrArea        0.547945\n",
            "ExterQual         0.000000\n",
            "ExterCond         0.000000\n",
            "Foundation        0.000000\n",
            "BsmtQual          2.534247\n",
            "BsmtCond          2.534247\n",
            "BsmtExposure      2.602740\n",
            "BsmtFinType1      2.534247\n",
            "BsmtFinSF1        0.000000\n",
            "BsmtFinType2      2.602740\n",
            "BsmtFinSF2        0.000000\n",
            "BsmtUnfSF         0.000000\n",
            "TotalBsmtSF       0.000000\n",
            "Heating           0.000000\n",
            "HeatingQC         0.000000\n",
            "CentralAir        0.000000\n",
            "Electrical        0.068493\n",
            "1stFlrSF          0.000000\n",
            "2ndFlrSF          0.000000\n",
            "LowQualFinSF      0.000000\n",
            "GrLivArea         0.000000\n",
            "BsmtFullBath      0.000000\n",
            "BsmtHalfBath      0.000000\n",
            "FullBath          0.000000\n",
            "HalfBath          0.000000\n",
            "BedroomAbvGr      0.000000\n",
            "KitchenAbvGr      0.000000\n",
            "KitchenQual       0.000000\n",
            "TotRmsAbvGrd      0.000000\n",
            "Functional        0.000000\n",
            "Fireplaces        0.000000\n",
            "FireplaceQu      47.260274\n",
            "GarageType        5.547945\n",
            "GarageYrBlt       5.547945\n",
            "GarageFinish      5.547945\n",
            "GarageCars        0.000000\n",
            "GarageArea        0.000000\n",
            "GarageQual        5.547945\n",
            "GarageCond        5.547945\n",
            "PavedDrive        0.000000\n",
            "WoodDeckSF        0.000000\n",
            "OpenPorchSF       0.000000\n",
            "EnclosedPorch     0.000000\n",
            "3SsnPorch         0.000000\n",
            "ScreenPorch       0.000000\n",
            "PoolArea          0.000000\n",
            "PoolQC           99.520548\n",
            "Fence            80.753425\n",
            "MiscFeature      96.301370\n",
            "MiscVal           0.000000\n",
            "MoSold            0.000000\n",
            "YrSold            0.000000\n",
            "SaleType          0.000000\n",
            "SaleCondition     0.000000\n",
            "SalePrice         0.000000\n",
            "dtype: float64\n"
          ]
        }
      ],
      "source": [
        "# check for missing values\n",
        "pd.set_option('display.max_rows',None)\n",
        "pct_na = df.isna().sum()/len(df)*100\n",
        "print(df.isna().sum()/len(df)*100)"
      ]
    },
    {
      "cell_type": "markdown",
      "source": [
        "#### Remove columns with too many missing values"
      ],
      "metadata": {
        "id": "bOAPlzFYkPdR"
      }
    },
    {
      "cell_type": "code",
      "source": [
        "# select columns with missing value > 45%\n",
        "pct_na = pct_na.to_frame().reset_index()\n",
        "pct_na.columns = ['col','pct_na']\n",
        "pct_na.head()"
      ],
      "metadata": {
        "colab": {
          "base_uri": "https://localhost:8080/",
          "height": 206
        },
        "id": "_diyzE2RkpsU",
        "outputId": "56095f61-7a9d-44c2-8074-d1b31f497489"
      },
      "execution_count": 248,
      "outputs": [
        {
          "output_type": "execute_result",
          "data": {
            "text/plain": [
              "           col     pct_na\n",
              "0   MSSubClass   0.000000\n",
              "1     MSZoning   0.000000\n",
              "2  LotFrontage  17.739726\n",
              "3      LotArea   0.000000\n",
              "4       Street   0.000000"
            ],
            "text/html": [
              "\n",
              "  <div id=\"df-a3f2ac9d-80b0-420d-9687-19ba3b2278d7\">\n",
              "    <div class=\"colab-df-container\">\n",
              "      <div>\n",
              "<style scoped>\n",
              "    .dataframe tbody tr th:only-of-type {\n",
              "        vertical-align: middle;\n",
              "    }\n",
              "\n",
              "    .dataframe tbody tr th {\n",
              "        vertical-align: top;\n",
              "    }\n",
              "\n",
              "    .dataframe thead th {\n",
              "        text-align: right;\n",
              "    }\n",
              "</style>\n",
              "<table border=\"1\" class=\"dataframe\">\n",
              "  <thead>\n",
              "    <tr style=\"text-align: right;\">\n",
              "      <th></th>\n",
              "      <th>col</th>\n",
              "      <th>pct_na</th>\n",
              "    </tr>\n",
              "  </thead>\n",
              "  <tbody>\n",
              "    <tr>\n",
              "      <th>0</th>\n",
              "      <td>MSSubClass</td>\n",
              "      <td>0.000000</td>\n",
              "    </tr>\n",
              "    <tr>\n",
              "      <th>1</th>\n",
              "      <td>MSZoning</td>\n",
              "      <td>0.000000</td>\n",
              "    </tr>\n",
              "    <tr>\n",
              "      <th>2</th>\n",
              "      <td>LotFrontage</td>\n",
              "      <td>17.739726</td>\n",
              "    </tr>\n",
              "    <tr>\n",
              "      <th>3</th>\n",
              "      <td>LotArea</td>\n",
              "      <td>0.000000</td>\n",
              "    </tr>\n",
              "    <tr>\n",
              "      <th>4</th>\n",
              "      <td>Street</td>\n",
              "      <td>0.000000</td>\n",
              "    </tr>\n",
              "  </tbody>\n",
              "</table>\n",
              "</div>\n",
              "      <button class=\"colab-df-convert\" onclick=\"convertToInteractive('df-a3f2ac9d-80b0-420d-9687-19ba3b2278d7')\"\n",
              "              title=\"Convert this dataframe to an interactive table.\"\n",
              "              style=\"display:none;\">\n",
              "        \n",
              "  <svg xmlns=\"http://www.w3.org/2000/svg\" height=\"24px\"viewBox=\"0 0 24 24\"\n",
              "       width=\"24px\">\n",
              "    <path d=\"M0 0h24v24H0V0z\" fill=\"none\"/>\n",
              "    <path d=\"M18.56 5.44l.94 2.06.94-2.06 2.06-.94-2.06-.94-.94-2.06-.94 2.06-2.06.94zm-11 1L8.5 8.5l.94-2.06 2.06-.94-2.06-.94L8.5 2.5l-.94 2.06-2.06.94zm10 10l.94 2.06.94-2.06 2.06-.94-2.06-.94-.94-2.06-.94 2.06-2.06.94z\"/><path d=\"M17.41 7.96l-1.37-1.37c-.4-.4-.92-.59-1.43-.59-.52 0-1.04.2-1.43.59L10.3 9.45l-7.72 7.72c-.78.78-.78 2.05 0 2.83L4 21.41c.39.39.9.59 1.41.59.51 0 1.02-.2 1.41-.59l7.78-7.78 2.81-2.81c.8-.78.8-2.07 0-2.86zM5.41 20L4 18.59l7.72-7.72 1.47 1.35L5.41 20z\"/>\n",
              "  </svg>\n",
              "      </button>\n",
              "      \n",
              "  <style>\n",
              "    .colab-df-container {\n",
              "      display:flex;\n",
              "      flex-wrap:wrap;\n",
              "      gap: 12px;\n",
              "    }\n",
              "\n",
              "    .colab-df-convert {\n",
              "      background-color: #E8F0FE;\n",
              "      border: none;\n",
              "      border-radius: 50%;\n",
              "      cursor: pointer;\n",
              "      display: none;\n",
              "      fill: #1967D2;\n",
              "      height: 32px;\n",
              "      padding: 0 0 0 0;\n",
              "      width: 32px;\n",
              "    }\n",
              "\n",
              "    .colab-df-convert:hover {\n",
              "      background-color: #E2EBFA;\n",
              "      box-shadow: 0px 1px 2px rgba(60, 64, 67, 0.3), 0px 1px 3px 1px rgba(60, 64, 67, 0.15);\n",
              "      fill: #174EA6;\n",
              "    }\n",
              "\n",
              "    [theme=dark] .colab-df-convert {\n",
              "      background-color: #3B4455;\n",
              "      fill: #D2E3FC;\n",
              "    }\n",
              "\n",
              "    [theme=dark] .colab-df-convert:hover {\n",
              "      background-color: #434B5C;\n",
              "      box-shadow: 0px 1px 3px 1px rgba(0, 0, 0, 0.15);\n",
              "      filter: drop-shadow(0px 1px 2px rgba(0, 0, 0, 0.3));\n",
              "      fill: #FFFFFF;\n",
              "    }\n",
              "  </style>\n",
              "\n",
              "      <script>\n",
              "        const buttonEl =\n",
              "          document.querySelector('#df-a3f2ac9d-80b0-420d-9687-19ba3b2278d7 button.colab-df-convert');\n",
              "        buttonEl.style.display =\n",
              "          google.colab.kernel.accessAllowed ? 'block' : 'none';\n",
              "\n",
              "        async function convertToInteractive(key) {\n",
              "          const element = document.querySelector('#df-a3f2ac9d-80b0-420d-9687-19ba3b2278d7');\n",
              "          const dataTable =\n",
              "            await google.colab.kernel.invokeFunction('convertToInteractive',\n",
              "                                                     [key], {});\n",
              "          if (!dataTable) return;\n",
              "\n",
              "          const docLinkHtml = 'Like what you see? Visit the ' +\n",
              "            '<a target=\"_blank\" href=https://colab.research.google.com/notebooks/data_table.ipynb>data table notebook</a>'\n",
              "            + ' to learn more about interactive tables.';\n",
              "          element.innerHTML = '';\n",
              "          dataTable['output_type'] = 'display_data';\n",
              "          await google.colab.output.renderOutput(dataTable, element);\n",
              "          const docLink = document.createElement('div');\n",
              "          docLink.innerHTML = docLinkHtml;\n",
              "          element.appendChild(docLink);\n",
              "        }\n",
              "      </script>\n",
              "    </div>\n",
              "  </div>\n",
              "  "
            ]
          },
          "metadata": {},
          "execution_count": 248
        }
      ]
    },
    {
      "cell_type": "code",
      "source": [
        "# obtain column names to be removed\n",
        "cols_rm = pct_na.loc[(pct_na[\"pct_na\"] >45), ['col']]\n",
        "cols_rm = cols_rm['col'].values.tolist()\n",
        "cols_rm"
      ],
      "metadata": {
        "colab": {
          "base_uri": "https://localhost:8080/"
        },
        "id": "tfcynzd5mLzk",
        "outputId": "cb842213-51f9-46cb-be64-d416bd03d6a5"
      },
      "execution_count": 249,
      "outputs": [
        {
          "output_type": "execute_result",
          "data": {
            "text/plain": [
              "['Alley', 'FireplaceQu', 'PoolQC', 'Fence', 'MiscFeature']"
            ]
          },
          "metadata": {},
          "execution_count": 249
        }
      ]
    },
    {
      "cell_type": "code",
      "source": [
        "# drop these columns\n",
        "df = df.drop(columns = cols_rm)\n",
        "df.info()"
      ],
      "metadata": {
        "colab": {
          "base_uri": "https://localhost:8080/"
        },
        "id": "6QVWECPJnV6d",
        "outputId": "c7e81e6e-0345-4a8f-b66a-fe0230ae2622"
      },
      "execution_count": 250,
      "outputs": [
        {
          "output_type": "stream",
          "name": "stdout",
          "text": [
            "<class 'pandas.core.frame.DataFrame'>\n",
            "Int64Index: 1460 entries, 1 to 1460\n",
            "Data columns (total 75 columns):\n",
            " #   Column         Non-Null Count  Dtype  \n",
            "---  ------         --------------  -----  \n",
            " 0   MSSubClass     1460 non-null   int64  \n",
            " 1   MSZoning       1460 non-null   object \n",
            " 2   LotFrontage    1201 non-null   float64\n",
            " 3   LotArea        1460 non-null   int64  \n",
            " 4   Street         1460 non-null   object \n",
            " 5   LotShape       1460 non-null   object \n",
            " 6   LandContour    1460 non-null   object \n",
            " 7   Utilities      1460 non-null   object \n",
            " 8   LotConfig      1460 non-null   object \n",
            " 9   LandSlope      1460 non-null   object \n",
            " 10  Neighborhood   1460 non-null   object \n",
            " 11  Condition1     1460 non-null   object \n",
            " 12  Condition2     1460 non-null   object \n",
            " 13  BldgType       1460 non-null   object \n",
            " 14  HouseStyle     1460 non-null   object \n",
            " 15  OverallQual    1460 non-null   int64  \n",
            " 16  OverallCond    1460 non-null   int64  \n",
            " 17  YearBuilt      1460 non-null   int64  \n",
            " 18  YearRemodAdd   1460 non-null   int64  \n",
            " 19  RoofStyle      1460 non-null   object \n",
            " 20  RoofMatl       1460 non-null   object \n",
            " 21  Exterior1st    1460 non-null   object \n",
            " 22  Exterior2nd    1460 non-null   object \n",
            " 23  MasVnrType     1452 non-null   object \n",
            " 24  MasVnrArea     1452 non-null   float64\n",
            " 25  ExterQual      1460 non-null   object \n",
            " 26  ExterCond      1460 non-null   object \n",
            " 27  Foundation     1460 non-null   object \n",
            " 28  BsmtQual       1423 non-null   object \n",
            " 29  BsmtCond       1423 non-null   object \n",
            " 30  BsmtExposure   1422 non-null   object \n",
            " 31  BsmtFinType1   1423 non-null   object \n",
            " 32  BsmtFinSF1     1460 non-null   int64  \n",
            " 33  BsmtFinType2   1422 non-null   object \n",
            " 34  BsmtFinSF2     1460 non-null   int64  \n",
            " 35  BsmtUnfSF      1460 non-null   int64  \n",
            " 36  TotalBsmtSF    1460 non-null   int64  \n",
            " 37  Heating        1460 non-null   object \n",
            " 38  HeatingQC      1460 non-null   object \n",
            " 39  CentralAir     1460 non-null   object \n",
            " 40  Electrical     1459 non-null   object \n",
            " 41  1stFlrSF       1460 non-null   int64  \n",
            " 42  2ndFlrSF       1460 non-null   int64  \n",
            " 43  LowQualFinSF   1460 non-null   int64  \n",
            " 44  GrLivArea      1460 non-null   int64  \n",
            " 45  BsmtFullBath   1460 non-null   int64  \n",
            " 46  BsmtHalfBath   1460 non-null   int64  \n",
            " 47  FullBath       1460 non-null   int64  \n",
            " 48  HalfBath       1460 non-null   int64  \n",
            " 49  BedroomAbvGr   1460 non-null   int64  \n",
            " 50  KitchenAbvGr   1460 non-null   int64  \n",
            " 51  KitchenQual    1460 non-null   object \n",
            " 52  TotRmsAbvGrd   1460 non-null   int64  \n",
            " 53  Functional     1460 non-null   object \n",
            " 54  Fireplaces     1460 non-null   int64  \n",
            " 55  GarageType     1379 non-null   object \n",
            " 56  GarageYrBlt    1379 non-null   float64\n",
            " 57  GarageFinish   1379 non-null   object \n",
            " 58  GarageCars     1460 non-null   int64  \n",
            " 59  GarageArea     1460 non-null   int64  \n",
            " 60  GarageQual     1379 non-null   object \n",
            " 61  GarageCond     1379 non-null   object \n",
            " 62  PavedDrive     1460 non-null   object \n",
            " 63  WoodDeckSF     1460 non-null   int64  \n",
            " 64  OpenPorchSF    1460 non-null   int64  \n",
            " 65  EnclosedPorch  1460 non-null   int64  \n",
            " 66  3SsnPorch      1460 non-null   int64  \n",
            " 67  ScreenPorch    1460 non-null   int64  \n",
            " 68  PoolArea       1460 non-null   int64  \n",
            " 69  MiscVal        1460 non-null   int64  \n",
            " 70  MoSold         1460 non-null   int64  \n",
            " 71  YrSold         1460 non-null   int64  \n",
            " 72  SaleType       1460 non-null   object \n",
            " 73  SaleCondition  1460 non-null   object \n",
            " 74  SalePrice      1460 non-null   int64  \n",
            "dtypes: float64(3), int64(34), object(38)\n",
            "memory usage: 866.9+ KB\n"
          ]
        }
      ]
    },
    {
      "cell_type": "markdown",
      "source": [
        "#### Remove rows with missing values"
      ],
      "metadata": {
        "id": "4CLU7FbYoinp"
      }
    },
    {
      "cell_type": "code",
      "source": [
        "# obtain column names to be removed\n",
        "cols_miss = pct_na.loc[(pct_na[\"pct_na\"] < 20) & (pct_na['pct_na']>0), ['col']]\n",
        "cols_miss = cols_miss['col'].values.tolist()\n",
        "cols_miss"
      ],
      "metadata": {
        "colab": {
          "base_uri": "https://localhost:8080/"
        },
        "id": "RY957Y6YopS8",
        "outputId": "c6d1dc9d-98bd-4218-ff08-1b1bb0dfda19"
      },
      "execution_count": 251,
      "outputs": [
        {
          "output_type": "execute_result",
          "data": {
            "text/plain": [
              "['LotFrontage',\n",
              " 'MasVnrType',\n",
              " 'MasVnrArea',\n",
              " 'BsmtQual',\n",
              " 'BsmtCond',\n",
              " 'BsmtExposure',\n",
              " 'BsmtFinType1',\n",
              " 'BsmtFinType2',\n",
              " 'Electrical',\n",
              " 'GarageType',\n",
              " 'GarageYrBlt',\n",
              " 'GarageFinish',\n",
              " 'GarageQual',\n",
              " 'GarageCond']"
            ]
          },
          "metadata": {},
          "execution_count": 251
        }
      ]
    },
    {
      "cell_type": "code",
      "source": [
        "# drop rows with NA in the above columns\n",
        "df = df.dropna(subset=cols_miss)\n",
        "print(df.isna().sum()/len(df)*100)"
      ],
      "metadata": {
        "colab": {
          "base_uri": "https://localhost:8080/"
        },
        "id": "UscfkDR5o_Jc",
        "outputId": "5ecfbded-abf9-482f-ce79-9361fb826aab"
      },
      "execution_count": 252,
      "outputs": [
        {
          "output_type": "stream",
          "name": "stdout",
          "text": [
            "MSSubClass       0.0\n",
            "MSZoning         0.0\n",
            "LotFrontage      0.0\n",
            "LotArea          0.0\n",
            "Street           0.0\n",
            "LotShape         0.0\n",
            "LandContour      0.0\n",
            "Utilities        0.0\n",
            "LotConfig        0.0\n",
            "LandSlope        0.0\n",
            "Neighborhood     0.0\n",
            "Condition1       0.0\n",
            "Condition2       0.0\n",
            "BldgType         0.0\n",
            "HouseStyle       0.0\n",
            "OverallQual      0.0\n",
            "OverallCond      0.0\n",
            "YearBuilt        0.0\n",
            "YearRemodAdd     0.0\n",
            "RoofStyle        0.0\n",
            "RoofMatl         0.0\n",
            "Exterior1st      0.0\n",
            "Exterior2nd      0.0\n",
            "MasVnrType       0.0\n",
            "MasVnrArea       0.0\n",
            "ExterQual        0.0\n",
            "ExterCond        0.0\n",
            "Foundation       0.0\n",
            "BsmtQual         0.0\n",
            "BsmtCond         0.0\n",
            "BsmtExposure     0.0\n",
            "BsmtFinType1     0.0\n",
            "BsmtFinSF1       0.0\n",
            "BsmtFinType2     0.0\n",
            "BsmtFinSF2       0.0\n",
            "BsmtUnfSF        0.0\n",
            "TotalBsmtSF      0.0\n",
            "Heating          0.0\n",
            "HeatingQC        0.0\n",
            "CentralAir       0.0\n",
            "Electrical       0.0\n",
            "1stFlrSF         0.0\n",
            "2ndFlrSF         0.0\n",
            "LowQualFinSF     0.0\n",
            "GrLivArea        0.0\n",
            "BsmtFullBath     0.0\n",
            "BsmtHalfBath     0.0\n",
            "FullBath         0.0\n",
            "HalfBath         0.0\n",
            "BedroomAbvGr     0.0\n",
            "KitchenAbvGr     0.0\n",
            "KitchenQual      0.0\n",
            "TotRmsAbvGrd     0.0\n",
            "Functional       0.0\n",
            "Fireplaces       0.0\n",
            "GarageType       0.0\n",
            "GarageYrBlt      0.0\n",
            "GarageFinish     0.0\n",
            "GarageCars       0.0\n",
            "GarageArea       0.0\n",
            "GarageQual       0.0\n",
            "GarageCond       0.0\n",
            "PavedDrive       0.0\n",
            "WoodDeckSF       0.0\n",
            "OpenPorchSF      0.0\n",
            "EnclosedPorch    0.0\n",
            "3SsnPorch        0.0\n",
            "ScreenPorch      0.0\n",
            "PoolArea         0.0\n",
            "MiscVal          0.0\n",
            "MoSold           0.0\n",
            "YrSold           0.0\n",
            "SaleType         0.0\n",
            "SaleCondition    0.0\n",
            "SalePrice        0.0\n",
            "dtype: float64\n"
          ]
        }
      ]
    },
    {
      "cell_type": "code",
      "source": [
        "df.shape[1]"
      ],
      "metadata": {
        "colab": {
          "base_uri": "https://localhost:8080/"
        },
        "id": "t5se33h186Dj",
        "outputId": "a1eab41b-39ac-48aa-d2fa-843591773ac9"
      },
      "execution_count": 253,
      "outputs": [
        {
          "output_type": "execute_result",
          "data": {
            "text/plain": [
              "75"
            ]
          },
          "metadata": {},
          "execution_count": 253
        }
      ]
    },
    {
      "cell_type": "markdown",
      "source": [
        "### Check inconsistencies\n",
        "\n",
        "- We did not find inconsistencies in data"
      ],
      "metadata": {
        "id": "8rxs7SsjpVEt"
      }
    },
    {
      "cell_type": "code",
      "source": [
        "# print unique values\n",
        "cat_cols = df.select_dtypes(include='object')\n",
        "for col in cat_cols:\n",
        "    print(f'- {col}:')\n",
        "    print(df[col].value_counts(dropna=False))\n",
        "    print(\"\\n\\n\")"
      ],
      "metadata": {
        "colab": {
          "base_uri": "https://localhost:8080/"
        },
        "id": "ABdNnmZn14aZ",
        "outputId": "c3fa13cd-dea2-4d5a-beff-3e6de7e3726f"
      },
      "execution_count": 254,
      "outputs": [
        {
          "output_type": "stream",
          "name": "stdout",
          "text": [
            "- MSZoning:\n",
            "RL         850\n",
            "RM         173\n",
            "FV          54\n",
            "RH           9\n",
            "C (all)      8\n",
            "Name: MSZoning, dtype: int64\n",
            "\n",
            "\n",
            "\n",
            "- Street:\n",
            "Pave    1090\n",
            "Grvl       4\n",
            "Name: Street, dtype: int64\n",
            "\n",
            "\n",
            "\n",
            "- LotShape:\n",
            "Reg    760\n",
            "IR1    301\n",
            "IR2     26\n",
            "IR3      7\n",
            "Name: LotShape, dtype: int64\n",
            "\n",
            "\n",
            "\n",
            "- LandContour:\n",
            "Lvl    991\n",
            "Bnk     45\n",
            "HLS     44\n",
            "Low     14\n",
            "Name: LandContour, dtype: int64\n",
            "\n",
            "\n",
            "\n",
            "- Utilities:\n",
            "AllPub    1094\n",
            "Name: Utilities, dtype: int64\n",
            "\n",
            "\n",
            "\n",
            "- LotConfig:\n",
            "Inside     830\n",
            "Corner     187\n",
            "CulDSac     44\n",
            "FR2         29\n",
            "FR3          4\n",
            "Name: LotConfig, dtype: int64\n",
            "\n",
            "\n",
            "\n",
            "- LandSlope:\n",
            "Gtl    1045\n",
            "Mod      44\n",
            "Sev       5\n",
            "Name: LandSlope, dtype: int64\n",
            "\n",
            "\n",
            "\n",
            "- Neighborhood:\n",
            "NAmes      173\n",
            "CollgCr    122\n",
            "OldTown     96\n",
            "Somerst     75\n",
            "NridgHt     74\n",
            "Edwards     65\n",
            "Gilbert     49\n",
            "NWAmes      45\n",
            "Sawyer      44\n",
            "SawyerW     44\n",
            "BrkSide     42\n",
            "Crawfor     41\n",
            "NoRidge     33\n",
            "Mitchel     30\n",
            "Timber      29\n",
            "IDOTRR      27\n",
            "StoneBr     20\n",
            "SWISU       19\n",
            "BrDale      15\n",
            "Blmngtn     14\n",
            "ClearCr     11\n",
            "MeadowV     10\n",
            "Veenker      7\n",
            "NPkVill      7\n",
            "Blueste      2\n",
            "Name: Neighborhood, dtype: int64\n",
            "\n",
            "\n",
            "\n",
            "- Condition1:\n",
            "Norm      950\n",
            "Feedr      52\n",
            "Artery     42\n",
            "RRAn       24\n",
            "PosN        9\n",
            "RRAe        8\n",
            "RRNn        4\n",
            "PosA        4\n",
            "RRNe        1\n",
            "Name: Condition1, dtype: int64\n",
            "\n",
            "\n",
            "\n",
            "- Condition2:\n",
            "Norm      1082\n",
            "Feedr        5\n",
            "Artery       2\n",
            "RRNn         2\n",
            "PosN         2\n",
            "PosA         1\n",
            "Name: Condition2, dtype: int64\n",
            "\n",
            "\n",
            "\n",
            "- BldgType:\n",
            "1Fam      925\n",
            "TwnhsE     90\n",
            "Twnhs      35\n",
            "Duplex     24\n",
            "2fmCon     20\n",
            "Name: BldgType, dtype: int64\n",
            "\n",
            "\n",
            "\n",
            "- HouseStyle:\n",
            "1Story    540\n",
            "2Story    346\n",
            "1.5Fin    117\n",
            "SLvl       43\n",
            "SFoyer     23\n",
            "1.5Unf     10\n",
            "2.5Unf      9\n",
            "2.5Fin      6\n",
            "Name: HouseStyle, dtype: int64\n",
            "\n",
            "\n",
            "\n",
            "- RoofStyle:\n",
            "Gable      843\n",
            "Hip        230\n",
            "Gambrel     10\n",
            "Mansard      6\n",
            "Flat         5\n",
            "Name: RoofStyle, dtype: int64\n",
            "\n",
            "\n",
            "\n",
            "- RoofMatl:\n",
            "CompShg    1078\n",
            "WdShngl       6\n",
            "Tar&Grv       5\n",
            "WdShake       2\n",
            "Membran       1\n",
            "Roll          1\n",
            "ClyTile       1\n",
            "Name: RoofMatl, dtype: int64\n",
            "\n",
            "\n",
            "\n",
            "- Exterior1st:\n",
            "VinylSd    421\n",
            "MetalSd    172\n",
            "HdBoard    151\n",
            "Wd Sdng    149\n",
            "Plywood     64\n",
            "CemntBd     45\n",
            "BrkFace     36\n",
            "WdShing     20\n",
            "Stucco      18\n",
            "AsbShng     14\n",
            "BrkComm      1\n",
            "Stone        1\n",
            "ImStucc      1\n",
            "CBlock       1\n",
            "Name: Exterior1st, dtype: int64\n",
            "\n",
            "\n",
            "\n",
            "- Exterior2nd:\n",
            "VinylSd    412\n",
            "MetalSd    169\n",
            "Wd Sdng    145\n",
            "HdBoard    138\n",
            "Plywood     82\n",
            "CmentBd     45\n",
            "Wd Shng     28\n",
            "Stucco      20\n",
            "BrkFace     19\n",
            "AsbShng     15\n",
            "ImStucc      9\n",
            "Brk Cmn      6\n",
            "AsphShn      2\n",
            "Stone        2\n",
            "Other        1\n",
            "CBlock       1\n",
            "Name: Exterior2nd, dtype: int64\n",
            "\n",
            "\n",
            "\n",
            "- MasVnrType:\n",
            "None       639\n",
            "BrkFace    327\n",
            "Stone      119\n",
            "BrkCmn       9\n",
            "Name: MasVnrType, dtype: int64\n",
            "\n",
            "\n",
            "\n",
            "- ExterQual:\n",
            "TA    646\n",
            "Gd    395\n",
            "Ex     46\n",
            "Fa      7\n",
            "Name: ExterQual, dtype: int64\n",
            "\n",
            "\n",
            "\n",
            "- ExterCond:\n",
            "TA    973\n",
            "Gd    104\n",
            "Fa     15\n",
            "Ex      2\n",
            "Name: ExterCond, dtype: int64\n",
            "\n",
            "\n",
            "\n",
            "- Foundation:\n",
            "PConc     518\n",
            "CBlock    446\n",
            "BrkTil    122\n",
            "Stone       6\n",
            "Wood        2\n",
            "Name: Foundation, dtype: int64\n",
            "\n",
            "\n",
            "\n",
            "- BsmtQual:\n",
            "TA    486\n",
            "Gd    463\n",
            "Ex    113\n",
            "Fa     32\n",
            "Name: BsmtQual, dtype: int64\n",
            "\n",
            "\n",
            "\n",
            "- BsmtCond:\n",
            "TA    1006\n",
            "Gd      51\n",
            "Fa      36\n",
            "Po       1\n",
            "Name: BsmtCond, dtype: int64\n",
            "\n",
            "\n",
            "\n",
            "- BsmtExposure:\n",
            "No    734\n",
            "Av    174\n",
            "Gd     97\n",
            "Mn     89\n",
            "Name: BsmtExposure, dtype: int64\n",
            "\n",
            "\n",
            "\n",
            "- BsmtFinType1:\n",
            "Unf    343\n",
            "GLQ    323\n",
            "ALQ    162\n",
            "Rec    105\n",
            "BLQ    105\n",
            "LwQ     56\n",
            "Name: BsmtFinType1, dtype: int64\n",
            "\n",
            "\n",
            "\n",
            "- BsmtFinType2:\n",
            "Unf    972\n",
            "Rec     37\n",
            "LwQ     35\n",
            "BLQ     25\n",
            "ALQ     13\n",
            "GLQ     12\n",
            "Name: BsmtFinType2, dtype: int64\n",
            "\n",
            "\n",
            "\n",
            "- Heating:\n",
            "GasA    1075\n",
            "GasW      16\n",
            "Grav       2\n",
            "OthW       1\n",
            "Name: Heating, dtype: int64\n",
            "\n",
            "\n",
            "\n",
            "- HeatingQC:\n",
            "Ex    594\n",
            "TA    298\n",
            "Gd    174\n",
            "Fa     27\n",
            "Po      1\n",
            "Name: HeatingQC, dtype: int64\n",
            "\n",
            "\n",
            "\n",
            "- CentralAir:\n",
            "Y    1036\n",
            "N      58\n",
            "Name: CentralAir, dtype: int64\n",
            "\n",
            "\n",
            "\n",
            "- Electrical:\n",
            "SBrkr    1009\n",
            "FuseA      67\n",
            "FuseF      15\n",
            "FuseP       2\n",
            "Mix         1\n",
            "Name: Electrical, dtype: int64\n",
            "\n",
            "\n",
            "\n",
            "- KitchenQual:\n",
            "TA    528\n",
            "Gd    454\n",
            "Ex     91\n",
            "Fa     21\n",
            "Name: KitchenQual, dtype: int64\n",
            "\n",
            "\n",
            "\n",
            "- Functional:\n",
            "Typ     1024\n",
            "Min2      25\n",
            "Min1      21\n",
            "Maj1      10\n",
            "Mod       10\n",
            "Maj2       4\n",
            "Name: Functional, dtype: int64\n",
            "\n",
            "\n",
            "\n",
            "- GarageType:\n",
            "Attchd     680\n",
            "Detchd     325\n",
            "BuiltIn     63\n",
            "Basment     15\n",
            "CarPort      6\n",
            "2Types       5\n",
            "Name: GarageType, dtype: int64\n",
            "\n",
            "\n",
            "\n",
            "- GarageFinish:\n",
            "Unf    485\n",
            "RFn    333\n",
            "Fin    276\n",
            "Name: GarageFinish, dtype: int64\n",
            "\n",
            "\n",
            "\n",
            "- GarageQual:\n",
            "TA    1031\n",
            "Fa      46\n",
            "Gd      11\n",
            "Ex       3\n",
            "Po       3\n",
            "Name: GarageQual, dtype: int64\n",
            "\n",
            "\n",
            "\n",
            "- GarageCond:\n",
            "TA    1050\n",
            "Fa      31\n",
            "Po       6\n",
            "Gd       5\n",
            "Ex       2\n",
            "Name: GarageCond, dtype: int64\n",
            "\n",
            "\n",
            "\n",
            "- PavedDrive:\n",
            "Y    1023\n",
            "N      48\n",
            "P      23\n",
            "Name: PavedDrive, dtype: int64\n",
            "\n",
            "\n",
            "\n",
            "- SaleType:\n",
            "WD       928\n",
            "New      116\n",
            "COD       31\n",
            "ConLD      5\n",
            "CWD        4\n",
            "ConLw      4\n",
            "ConLI      3\n",
            "Con        2\n",
            "Oth        1\n",
            "Name: SaleType, dtype: int64\n",
            "\n",
            "\n",
            "\n",
            "- SaleCondition:\n",
            "Normal     880\n",
            "Partial    119\n",
            "Abnorml     70\n",
            "Family      18\n",
            "Alloca       6\n",
            "AdjLand      1\n",
            "Name: SaleCondition, dtype: int64\n",
            "\n",
            "\n",
            "\n"
          ]
        }
      ]
    },
    {
      "cell_type": "markdown",
      "source": [
        "- These columns may need to be further engineered to avoid introducing errors to our model"
      ],
      "metadata": {
        "id": "GsPpS1bs2TZL"
      }
    },
    {
      "cell_type": "markdown",
      "source": [
        "### Check basic stats\n",
        "\n",
        "- We also need to check if there is any unrealistic values for numeric columns"
      ],
      "metadata": {
        "id": "DavAKfUmqDf7"
      }
    },
    {
      "cell_type": "code",
      "source": [
        "df.describe()"
      ],
      "metadata": {
        "colab": {
          "base_uri": "https://localhost:8080/",
          "height": 394
        },
        "id": "L3TmH2yNqGUR",
        "outputId": "fd09aa23-9ce1-4741-a8c6-108323611d76"
      },
      "execution_count": 255,
      "outputs": [
        {
          "output_type": "execute_result",
          "data": {
            "text/plain": [
              "        MSSubClass  LotFrontage        LotArea  OverallQual  OverallCond  \\\n",
              "count  1094.000000  1094.000000    1094.000000  1094.000000  1094.000000   \n",
              "mean     56.128885    70.759598   10132.346435     6.247715     5.575868   \n",
              "std      41.976345    24.508859    8212.249621     1.366797     1.066500   \n",
              "min      20.000000    21.000000    1300.000000     2.000000     2.000000   \n",
              "25%      20.000000    60.000000    7606.750000     5.000000     5.000000   \n",
              "50%      50.000000    70.000000    9444.500000     6.000000     5.000000   \n",
              "75%      70.000000    80.000000   11387.250000     7.000000     6.000000   \n",
              "max     190.000000   313.000000  215245.000000    10.000000     9.000000   \n",
              "\n",
              "         YearBuilt  YearRemodAdd   MasVnrArea   BsmtFinSF1   BsmtFinSF2  ...  \\\n",
              "count  1094.000000   1094.000000  1094.000000  1094.000000  1094.000000  ...   \n",
              "mean   1972.412249   1985.915905   109.855576   448.191956    45.252285  ...   \n",
              "std      31.189752     20.930772   190.667459   468.728095   159.075003  ...   \n",
              "min    1880.000000   1950.000000     0.000000     0.000000     0.000000  ...   \n",
              "25%    1953.000000   1967.000000     0.000000     0.000000     0.000000  ...   \n",
              "50%    1975.000000   1995.000000     0.000000   384.500000     0.000000  ...   \n",
              "75%    2003.000000   2005.000000   171.750000   712.750000     0.000000  ...   \n",
              "max    2010.000000   2010.000000  1600.000000  5644.000000  1474.000000  ...   \n",
              "\n",
              "        WoodDeckSF  OpenPorchSF  EnclosedPorch    3SsnPorch  ScreenPorch  \\\n",
              "count  1094.000000  1094.000000    1094.000000  1094.000000  1094.000000   \n",
              "mean     94.341865    46.946984      22.053016     3.266910    16.498172   \n",
              "std     122.624615    64.820019      61.570502    29.655973    58.455303   \n",
              "min       0.000000     0.000000       0.000000     0.000000     0.000000   \n",
              "25%       0.000000     0.000000       0.000000     0.000000     0.000000   \n",
              "50%       0.000000    28.000000       0.000000     0.000000     0.000000   \n",
              "75%     169.750000    68.000000       0.000000     0.000000     0.000000   \n",
              "max     857.000000   547.000000     552.000000   508.000000   480.000000   \n",
              "\n",
              "          PoolArea      MiscVal       MoSold       YrSold      SalePrice  \n",
              "count  1094.000000  1094.000000  1094.000000  1094.000000    1094.000000  \n",
              "mean      3.007313    23.550274     6.335466  2007.786106  187033.263254  \n",
              "std      40.713175   167.135237     2.694558     1.334307   83165.332151  \n",
              "min       0.000000     0.000000     1.000000  2006.000000   35311.000000  \n",
              "25%       0.000000     0.000000     5.000000  2007.000000  132500.000000  \n",
              "50%       0.000000     0.000000     6.000000  2008.000000  165750.000000  \n",
              "75%       0.000000     0.000000     8.000000  2009.000000  221000.000000  \n",
              "max     648.000000  2500.000000    12.000000  2010.000000  755000.000000  \n",
              "\n",
              "[8 rows x 37 columns]"
            ],
            "text/html": [
              "\n",
              "  <div id=\"df-4ce29b2c-2479-4ef0-85c4-26e0ad441865\">\n",
              "    <div class=\"colab-df-container\">\n",
              "      <div>\n",
              "<style scoped>\n",
              "    .dataframe tbody tr th:only-of-type {\n",
              "        vertical-align: middle;\n",
              "    }\n",
              "\n",
              "    .dataframe tbody tr th {\n",
              "        vertical-align: top;\n",
              "    }\n",
              "\n",
              "    .dataframe thead th {\n",
              "        text-align: right;\n",
              "    }\n",
              "</style>\n",
              "<table border=\"1\" class=\"dataframe\">\n",
              "  <thead>\n",
              "    <tr style=\"text-align: right;\">\n",
              "      <th></th>\n",
              "      <th>MSSubClass</th>\n",
              "      <th>LotFrontage</th>\n",
              "      <th>LotArea</th>\n",
              "      <th>OverallQual</th>\n",
              "      <th>OverallCond</th>\n",
              "      <th>YearBuilt</th>\n",
              "      <th>YearRemodAdd</th>\n",
              "      <th>MasVnrArea</th>\n",
              "      <th>BsmtFinSF1</th>\n",
              "      <th>BsmtFinSF2</th>\n",
              "      <th>...</th>\n",
              "      <th>WoodDeckSF</th>\n",
              "      <th>OpenPorchSF</th>\n",
              "      <th>EnclosedPorch</th>\n",
              "      <th>3SsnPorch</th>\n",
              "      <th>ScreenPorch</th>\n",
              "      <th>PoolArea</th>\n",
              "      <th>MiscVal</th>\n",
              "      <th>MoSold</th>\n",
              "      <th>YrSold</th>\n",
              "      <th>SalePrice</th>\n",
              "    </tr>\n",
              "  </thead>\n",
              "  <tbody>\n",
              "    <tr>\n",
              "      <th>count</th>\n",
              "      <td>1094.000000</td>\n",
              "      <td>1094.000000</td>\n",
              "      <td>1094.000000</td>\n",
              "      <td>1094.000000</td>\n",
              "      <td>1094.000000</td>\n",
              "      <td>1094.000000</td>\n",
              "      <td>1094.000000</td>\n",
              "      <td>1094.000000</td>\n",
              "      <td>1094.000000</td>\n",
              "      <td>1094.000000</td>\n",
              "      <td>...</td>\n",
              "      <td>1094.000000</td>\n",
              "      <td>1094.000000</td>\n",
              "      <td>1094.000000</td>\n",
              "      <td>1094.000000</td>\n",
              "      <td>1094.000000</td>\n",
              "      <td>1094.000000</td>\n",
              "      <td>1094.000000</td>\n",
              "      <td>1094.000000</td>\n",
              "      <td>1094.000000</td>\n",
              "      <td>1094.000000</td>\n",
              "    </tr>\n",
              "    <tr>\n",
              "      <th>mean</th>\n",
              "      <td>56.128885</td>\n",
              "      <td>70.759598</td>\n",
              "      <td>10132.346435</td>\n",
              "      <td>6.247715</td>\n",
              "      <td>5.575868</td>\n",
              "      <td>1972.412249</td>\n",
              "      <td>1985.915905</td>\n",
              "      <td>109.855576</td>\n",
              "      <td>448.191956</td>\n",
              "      <td>45.252285</td>\n",
              "      <td>...</td>\n",
              "      <td>94.341865</td>\n",
              "      <td>46.946984</td>\n",
              "      <td>22.053016</td>\n",
              "      <td>3.266910</td>\n",
              "      <td>16.498172</td>\n",
              "      <td>3.007313</td>\n",
              "      <td>23.550274</td>\n",
              "      <td>6.335466</td>\n",
              "      <td>2007.786106</td>\n",
              "      <td>187033.263254</td>\n",
              "    </tr>\n",
              "    <tr>\n",
              "      <th>std</th>\n",
              "      <td>41.976345</td>\n",
              "      <td>24.508859</td>\n",
              "      <td>8212.249621</td>\n",
              "      <td>1.366797</td>\n",
              "      <td>1.066500</td>\n",
              "      <td>31.189752</td>\n",
              "      <td>20.930772</td>\n",
              "      <td>190.667459</td>\n",
              "      <td>468.728095</td>\n",
              "      <td>159.075003</td>\n",
              "      <td>...</td>\n",
              "      <td>122.624615</td>\n",
              "      <td>64.820019</td>\n",
              "      <td>61.570502</td>\n",
              "      <td>29.655973</td>\n",
              "      <td>58.455303</td>\n",
              "      <td>40.713175</td>\n",
              "      <td>167.135237</td>\n",
              "      <td>2.694558</td>\n",
              "      <td>1.334307</td>\n",
              "      <td>83165.332151</td>\n",
              "    </tr>\n",
              "    <tr>\n",
              "      <th>min</th>\n",
              "      <td>20.000000</td>\n",
              "      <td>21.000000</td>\n",
              "      <td>1300.000000</td>\n",
              "      <td>2.000000</td>\n",
              "      <td>2.000000</td>\n",
              "      <td>1880.000000</td>\n",
              "      <td>1950.000000</td>\n",
              "      <td>0.000000</td>\n",
              "      <td>0.000000</td>\n",
              "      <td>0.000000</td>\n",
              "      <td>...</td>\n",
              "      <td>0.000000</td>\n",
              "      <td>0.000000</td>\n",
              "      <td>0.000000</td>\n",
              "      <td>0.000000</td>\n",
              "      <td>0.000000</td>\n",
              "      <td>0.000000</td>\n",
              "      <td>0.000000</td>\n",
              "      <td>1.000000</td>\n",
              "      <td>2006.000000</td>\n",
              "      <td>35311.000000</td>\n",
              "    </tr>\n",
              "    <tr>\n",
              "      <th>25%</th>\n",
              "      <td>20.000000</td>\n",
              "      <td>60.000000</td>\n",
              "      <td>7606.750000</td>\n",
              "      <td>5.000000</td>\n",
              "      <td>5.000000</td>\n",
              "      <td>1953.000000</td>\n",
              "      <td>1967.000000</td>\n",
              "      <td>0.000000</td>\n",
              "      <td>0.000000</td>\n",
              "      <td>0.000000</td>\n",
              "      <td>...</td>\n",
              "      <td>0.000000</td>\n",
              "      <td>0.000000</td>\n",
              "      <td>0.000000</td>\n",
              "      <td>0.000000</td>\n",
              "      <td>0.000000</td>\n",
              "      <td>0.000000</td>\n",
              "      <td>0.000000</td>\n",
              "      <td>5.000000</td>\n",
              "      <td>2007.000000</td>\n",
              "      <td>132500.000000</td>\n",
              "    </tr>\n",
              "    <tr>\n",
              "      <th>50%</th>\n",
              "      <td>50.000000</td>\n",
              "      <td>70.000000</td>\n",
              "      <td>9444.500000</td>\n",
              "      <td>6.000000</td>\n",
              "      <td>5.000000</td>\n",
              "      <td>1975.000000</td>\n",
              "      <td>1995.000000</td>\n",
              "      <td>0.000000</td>\n",
              "      <td>384.500000</td>\n",
              "      <td>0.000000</td>\n",
              "      <td>...</td>\n",
              "      <td>0.000000</td>\n",
              "      <td>28.000000</td>\n",
              "      <td>0.000000</td>\n",
              "      <td>0.000000</td>\n",
              "      <td>0.000000</td>\n",
              "      <td>0.000000</td>\n",
              "      <td>0.000000</td>\n",
              "      <td>6.000000</td>\n",
              "      <td>2008.000000</td>\n",
              "      <td>165750.000000</td>\n",
              "    </tr>\n",
              "    <tr>\n",
              "      <th>75%</th>\n",
              "      <td>70.000000</td>\n",
              "      <td>80.000000</td>\n",
              "      <td>11387.250000</td>\n",
              "      <td>7.000000</td>\n",
              "      <td>6.000000</td>\n",
              "      <td>2003.000000</td>\n",
              "      <td>2005.000000</td>\n",
              "      <td>171.750000</td>\n",
              "      <td>712.750000</td>\n",
              "      <td>0.000000</td>\n",
              "      <td>...</td>\n",
              "      <td>169.750000</td>\n",
              "      <td>68.000000</td>\n",
              "      <td>0.000000</td>\n",
              "      <td>0.000000</td>\n",
              "      <td>0.000000</td>\n",
              "      <td>0.000000</td>\n",
              "      <td>0.000000</td>\n",
              "      <td>8.000000</td>\n",
              "      <td>2009.000000</td>\n",
              "      <td>221000.000000</td>\n",
              "    </tr>\n",
              "    <tr>\n",
              "      <th>max</th>\n",
              "      <td>190.000000</td>\n",
              "      <td>313.000000</td>\n",
              "      <td>215245.000000</td>\n",
              "      <td>10.000000</td>\n",
              "      <td>9.000000</td>\n",
              "      <td>2010.000000</td>\n",
              "      <td>2010.000000</td>\n",
              "      <td>1600.000000</td>\n",
              "      <td>5644.000000</td>\n",
              "      <td>1474.000000</td>\n",
              "      <td>...</td>\n",
              "      <td>857.000000</td>\n",
              "      <td>547.000000</td>\n",
              "      <td>552.000000</td>\n",
              "      <td>508.000000</td>\n",
              "      <td>480.000000</td>\n",
              "      <td>648.000000</td>\n",
              "      <td>2500.000000</td>\n",
              "      <td>12.000000</td>\n",
              "      <td>2010.000000</td>\n",
              "      <td>755000.000000</td>\n",
              "    </tr>\n",
              "  </tbody>\n",
              "</table>\n",
              "<p>8 rows × 37 columns</p>\n",
              "</div>\n",
              "      <button class=\"colab-df-convert\" onclick=\"convertToInteractive('df-4ce29b2c-2479-4ef0-85c4-26e0ad441865')\"\n",
              "              title=\"Convert this dataframe to an interactive table.\"\n",
              "              style=\"display:none;\">\n",
              "        \n",
              "  <svg xmlns=\"http://www.w3.org/2000/svg\" height=\"24px\"viewBox=\"0 0 24 24\"\n",
              "       width=\"24px\">\n",
              "    <path d=\"M0 0h24v24H0V0z\" fill=\"none\"/>\n",
              "    <path d=\"M18.56 5.44l.94 2.06.94-2.06 2.06-.94-2.06-.94-.94-2.06-.94 2.06-2.06.94zm-11 1L8.5 8.5l.94-2.06 2.06-.94-2.06-.94L8.5 2.5l-.94 2.06-2.06.94zm10 10l.94 2.06.94-2.06 2.06-.94-2.06-.94-.94-2.06-.94 2.06-2.06.94z\"/><path d=\"M17.41 7.96l-1.37-1.37c-.4-.4-.92-.59-1.43-.59-.52 0-1.04.2-1.43.59L10.3 9.45l-7.72 7.72c-.78.78-.78 2.05 0 2.83L4 21.41c.39.39.9.59 1.41.59.51 0 1.02-.2 1.41-.59l7.78-7.78 2.81-2.81c.8-.78.8-2.07 0-2.86zM5.41 20L4 18.59l7.72-7.72 1.47 1.35L5.41 20z\"/>\n",
              "  </svg>\n",
              "      </button>\n",
              "      \n",
              "  <style>\n",
              "    .colab-df-container {\n",
              "      display:flex;\n",
              "      flex-wrap:wrap;\n",
              "      gap: 12px;\n",
              "    }\n",
              "\n",
              "    .colab-df-convert {\n",
              "      background-color: #E8F0FE;\n",
              "      border: none;\n",
              "      border-radius: 50%;\n",
              "      cursor: pointer;\n",
              "      display: none;\n",
              "      fill: #1967D2;\n",
              "      height: 32px;\n",
              "      padding: 0 0 0 0;\n",
              "      width: 32px;\n",
              "    }\n",
              "\n",
              "    .colab-df-convert:hover {\n",
              "      background-color: #E2EBFA;\n",
              "      box-shadow: 0px 1px 2px rgba(60, 64, 67, 0.3), 0px 1px 3px 1px rgba(60, 64, 67, 0.15);\n",
              "      fill: #174EA6;\n",
              "    }\n",
              "\n",
              "    [theme=dark] .colab-df-convert {\n",
              "      background-color: #3B4455;\n",
              "      fill: #D2E3FC;\n",
              "    }\n",
              "\n",
              "    [theme=dark] .colab-df-convert:hover {\n",
              "      background-color: #434B5C;\n",
              "      box-shadow: 0px 1px 3px 1px rgba(0, 0, 0, 0.15);\n",
              "      filter: drop-shadow(0px 1px 2px rgba(0, 0, 0, 0.3));\n",
              "      fill: #FFFFFF;\n",
              "    }\n",
              "  </style>\n",
              "\n",
              "      <script>\n",
              "        const buttonEl =\n",
              "          document.querySelector('#df-4ce29b2c-2479-4ef0-85c4-26e0ad441865 button.colab-df-convert');\n",
              "        buttonEl.style.display =\n",
              "          google.colab.kernel.accessAllowed ? 'block' : 'none';\n",
              "\n",
              "        async function convertToInteractive(key) {\n",
              "          const element = document.querySelector('#df-4ce29b2c-2479-4ef0-85c4-26e0ad441865');\n",
              "          const dataTable =\n",
              "            await google.colab.kernel.invokeFunction('convertToInteractive',\n",
              "                                                     [key], {});\n",
              "          if (!dataTable) return;\n",
              "\n",
              "          const docLinkHtml = 'Like what you see? Visit the ' +\n",
              "            '<a target=\"_blank\" href=https://colab.research.google.com/notebooks/data_table.ipynb>data table notebook</a>'\n",
              "            + ' to learn more about interactive tables.';\n",
              "          element.innerHTML = '';\n",
              "          dataTable['output_type'] = 'display_data';\n",
              "          await google.colab.output.renderOutput(dataTable, element);\n",
              "          const docLink = document.createElement('div');\n",
              "          docLink.innerHTML = docLinkHtml;\n",
              "          element.appendChild(docLink);\n",
              "        }\n",
              "      </script>\n",
              "    </div>\n",
              "  </div>\n",
              "  "
            ]
          },
          "metadata": {},
          "execution_count": 255
        }
      ]
    },
    {
      "cell_type": "markdown",
      "source": [
        "## Create train and test data"
      ],
      "metadata": {
        "id": "pz_eC2kUq0P6"
      }
    },
    {
      "cell_type": "code",
      "source": [
        "df.shape"
      ],
      "metadata": {
        "colab": {
          "base_uri": "https://localhost:8080/"
        },
        "id": "GaTwaE6brHT0",
        "outputId": "ac6a9595-0df0-47ef-b7fb-11c92f6c4737"
      },
      "execution_count": 256,
      "outputs": [
        {
          "output_type": "execute_result",
          "data": {
            "text/plain": [
              "(1094, 75)"
            ]
          },
          "metadata": {},
          "execution_count": 256
        }
      ]
    },
    {
      "cell_type": "code",
      "source": [
        "# Define X and y and train test split\n",
        "X = df.drop(columns = ['SalePrice'])\n",
        "y = df['SalePrice']\n",
        "\n",
        "X_train, X_test, y_train, y_test = train_test_split(X, y, random_state = 42)"
      ],
      "metadata": {
        "id": "Al2j9Ebeq3OP"
      },
      "execution_count": 257,
      "outputs": []
    },
    {
      "cell_type": "markdown",
      "source": [
        "## Preprocessing"
      ],
      "metadata": {
        "id": "w2EyLWSitPkK"
      }
    },
    {
      "cell_type": "code",
      "source": [
        "# create preprocessor\n",
        "scaler = StandardScaler()\n",
        "ohe = OneHotEncoder(sparse=False,handle_unknown='ignore')\n",
        "\n",
        "median_imputer = SimpleImputer(strategy='median')\n",
        "#this is showing for learning purpose but we are not using it here. \n",
        "missing_imputer = SimpleImputer(strategy='constant', fill_value='missing')\n",
        "\n",
        "num_pipeline = make_pipeline(median_imputer, scaler)\n",
        "cat_pipeline = make_pipeline(missing_imputer, ohe)"
      ],
      "metadata": {
        "id": "F32-Kcq26ScL"
      },
      "execution_count": 258,
      "outputs": []
    },
    {
      "cell_type": "code",
      "source": [
        "# Setup the tuples to pair the processors with the make column selectors\n",
        "cat_select = make_column_selector(dtype_include='object')\n",
        "num_select = make_column_selector(dtype_include='number')\n",
        "\n",
        "\n",
        "num_tuple = (num_pipeline, num_select)\n",
        "cat_tuple = (cat_pipeline, cat_select)"
      ],
      "metadata": {
        "id": "YKPVNXIs6l2g"
      },
      "execution_count": 259,
      "outputs": []
    },
    {
      "cell_type": "code",
      "source": [
        "# Instantiate the make column transformer\n",
        "processor = make_column_transformer(num_tuple,cat_tuple, \n",
        "                                          remainder='drop')"
      ],
      "metadata": {
        "id": "giWRP3J46utB"
      },
      "execution_count": 260,
      "outputs": []
    },
    {
      "cell_type": "code",
      "source": [
        "# # create preprocessor\n",
        "# cat_select = make_column_selector(dtype_include='object')\n",
        "# num_select = make_column_selector(dtype_include='number')\n",
        "\n",
        "# scaler = StandardScaler()\n",
        "# ohe = OneHotEncoder(sparse=False,handle_unknown='ignore')\n",
        "\n",
        "# num_tuple = (scaler, num_select)\n",
        "# cat_tuple = (ohe, cat_select)\n",
        "\n",
        "# processor = make_column_transformer(num_tuple, cat_tuple, remainder='passthrough')"
      ],
      "metadata": {
        "id": "byr6Jf2xuYTm"
      },
      "execution_count": 261,
      "outputs": []
    },
    {
      "cell_type": "code",
      "source": [
        "# apply preprocessor\n",
        "X_train_proc = processor.fit_transform(X_train)\n",
        "X_test_proc = processor.transform(X_test)\n",
        " \n",
        "X_train_proc.shape"
      ],
      "metadata": {
        "colab": {
          "base_uri": "https://localhost:8080/"
        },
        "id": "A5qTKw4gzAZH",
        "outputId": "a41919ba-4ac3-4467-d03b-f8ef13a7609f"
      },
      "execution_count": 262,
      "outputs": [
        {
          "output_type": "execute_result",
          "data": {
            "text/plain": [
              "(820, 254)"
            ]
          },
          "metadata": {},
          "execution_count": 262
        }
      ]
    },
    {
      "cell_type": "markdown",
      "source": [
        "## Model 1"
      ],
      "metadata": {
        "id": "rhaQA7Zpvf46"
      }
    },
    {
      "cell_type": "code",
      "source": [
        "# create and compile the model\n",
        "model1 = keras.Sequential()\n",
        "model1.add(Dense(10, input_dim=X_train_proc.shape[1],\n",
        "          activation = 'relu'))\n",
        "model1.add(Dense(5, activation = 'relu'))\n",
        "model1.add(Dense(1, activation = 'linear'))\n",
        "\n",
        "model1.summary()"
      ],
      "metadata": {
        "colab": {
          "base_uri": "https://localhost:8080/"
        },
        "id": "j7dahoUVvkv3",
        "outputId": "064b2cbf-9646-4ec1-fabc-fe886d356044"
      },
      "execution_count": 263,
      "outputs": [
        {
          "output_type": "stream",
          "name": "stdout",
          "text": [
            "Model: \"sequential_14\"\n",
            "_________________________________________________________________\n",
            " Layer (type)                Output Shape              Param #   \n",
            "=================================================================\n",
            " dense_46 (Dense)            (None, 10)                2550      \n",
            "                                                                 \n",
            " dense_47 (Dense)            (None, 5)                 55        \n",
            "                                                                 \n",
            " dense_48 (Dense)            (None, 1)                 6         \n",
            "                                                                 \n",
            "=================================================================\n",
            "Total params: 2,611\n",
            "Trainable params: 2,611\n",
            "Non-trainable params: 0\n",
            "_________________________________________________________________\n"
          ]
        }
      ]
    },
    {
      "cell_type": "code",
      "source": [
        "# comple model 1\n",
        "model1.compile(loss='mse', optimizer='adam',\n",
        "                  metrics=[metrics.MeanAbsoluteError(),\n",
        "                           metrics.RootMeanSquaredError()])"
      ],
      "metadata": {
        "id": "_pjjHrAMwWeg"
      },
      "execution_count": 264,
      "outputs": []
    },
    {
      "cell_type": "code",
      "source": [
        "# fit your model\n",
        "history = model1.fit(X_train_proc, y_train,\n",
        "                        validation_data = (X_test_proc, y_test),\n",
        "                        epochs = 200,\n",
        "                        verbose=0)"
      ],
      "metadata": {
        "id": "WCrVYHPHwTZF"
      },
      "execution_count": 265,
      "outputs": []
    },
    {
      "cell_type": "code",
      "source": [
        "# See how your model is doing\n",
        "plot_history(history)"
      ],
      "metadata": {
        "colab": {
          "base_uri": "https://localhost:8080/",
          "height": 809
        },
        "id": "V8mSSlcQwpmQ",
        "outputId": "bcce5b29-a94a-45d3-af87-fe9990b5e9f8"
      },
      "execution_count": 266,
      "outputs": [
        {
          "output_type": "display_data",
          "data": {
            "text/plain": [
              "<Figure size 432x288 with 1 Axes>"
            ],
            "image/png": "[encoded data removed]"
          },
          "metadata": {
            "needs_background": "light"
          }
        },
        {
          "output_type": "display_data",
          "data": {
            "text/plain": [
              "<Figure size 432x288 with 1 Axes>"
            ],
            "image/png": "[encoded data removed]"
          },
          "metadata": {
            "needs_background": "light"
          }
        },
        {
          "output_type": "display_data",
          "data": {
            "text/plain": [
              "<Figure size 432x288 with 1 Axes>"
            ],
            "image/png": "[encoded data removed]"
          },
          "metadata": {
            "needs_background": "light"
          }
        }
      ]
    },
    {
      "cell_type": "code",
      "source": [
        "# get predictions\n",
        "train_preds = model1.predict(X_train_proc)\n",
        "test_preds = model1.predict(X_test_proc)"
      ],
      "metadata": {
        "colab": {
          "base_uri": "https://localhost:8080/"
        },
        "id": "HJlgfgfG4VHx",
        "outputId": "b414aeab-b1fb-409b-9ba8-3bcb1fb901be"
      },
      "execution_count": 267,
      "outputs": [
        {
          "output_type": "stream",
          "name": "stdout",
          "text": [
            "26/26 [==============================] - 0s 1ms/step\n",
            "9/9 [==============================] - 0s 2ms/step\n"
          ]
        }
      ]
    },
    {
      "cell_type": "code",
      "source": [
        "# inspect evaluation metrics\n",
        "result1_train = eval_regression(y_train, train_preds, name='Model 1 Train')\n",
        "result1_test = eval_regression(y_test, test_preds, name='Model 2 Test')\n",
        "\n",
        "frames = [result1_train, result1_test]\n",
        "result1 = pd.concat(frames)\n",
        "result1"
      ],
      "metadata": {
        "colab": {
          "base_uri": "https://localhost:8080/",
          "height": 112
        },
        "id": "bi1IdeZu4hbx",
        "outputId": "557d743d-ccbe-403a-9f45-5321b1df985f"
      },
      "execution_count": 268,
      "outputs": [
        {
          "output_type": "execute_result",
          "data": {
            "text/plain": [
              "      Model Name          RMSE           MAE        R2\n",
              "0  Model 1 Train  63677.024847  38756.416906  0.404833\n",
              "0   Model 2 Test  65750.002803  40336.737597  0.399491"
            ],
            "text/html": [
              "\n",
              "  <div id=\"df-85cc76b0-ca1a-4ffd-9814-496baa68812a\">\n",
              "    <div class=\"colab-df-container\">\n",
              "      <div>\n",
              "<style scoped>\n",
              "    .dataframe tbody tr th:only-of-type {\n",
              "        vertical-align: middle;\n",
              "    }\n",
              "\n",
              "    .dataframe tbody tr th {\n",
              "        vertical-align: top;\n",
              "    }\n",
              "\n",
              "    .dataframe thead th {\n",
              "        text-align: right;\n",
              "    }\n",
              "</style>\n",
              "<table border=\"1\" class=\"dataframe\">\n",
              "  <thead>\n",
              "    <tr style=\"text-align: right;\">\n",
              "      <th></th>\n",
              "      <th>Model Name</th>\n",
              "      <th>RMSE</th>\n",
              "      <th>MAE</th>\n",
              "      <th>R2</th>\n",
              "    </tr>\n",
              "  </thead>\n",
              "  <tbody>\n",
              "    <tr>\n",
              "      <th>0</th>\n",
              "      <td>Model 1 Train</td>\n",
              "      <td>63677.024847</td>\n",
              "      <td>38756.416906</td>\n",
              "      <td>0.404833</td>\n",
              "    </tr>\n",
              "    <tr>\n",
              "      <th>0</th>\n",
              "      <td>Model 2 Test</td>\n",
              "      <td>65750.002803</td>\n",
              "      <td>40336.737597</td>\n",
              "      <td>0.399491</td>\n",
              "    </tr>\n",
              "  </tbody>\n",
              "</table>\n",
              "</div>\n",
              "      <button class=\"colab-df-convert\" onclick=\"convertToInteractive('df-85cc76b0-ca1a-4ffd-9814-496baa68812a')\"\n",
              "              title=\"Convert this dataframe to an interactive table.\"\n",
              "              style=\"display:none;\">\n",
              "        \n",
              "  <svg xmlns=\"http://www.w3.org/2000/svg\" height=\"24px\"viewBox=\"0 0 24 24\"\n",
              "       width=\"24px\">\n",
              "    <path d=\"M0 0h24v24H0V0z\" fill=\"none\"/>\n",
              "    <path d=\"M18.56 5.44l.94 2.06.94-2.06 2.06-.94-2.06-.94-.94-2.06-.94 2.06-2.06.94zm-11 1L8.5 8.5l.94-2.06 2.06-.94-2.06-.94L8.5 2.5l-.94 2.06-2.06.94zm10 10l.94 2.06.94-2.06 2.06-.94-2.06-.94-.94-2.06-.94 2.06-2.06.94z\"/><path d=\"M17.41 7.96l-1.37-1.37c-.4-.4-.92-.59-1.43-.59-.52 0-1.04.2-1.43.59L10.3 9.45l-7.72 7.72c-.78.78-.78 2.05 0 2.83L4 21.41c.39.39.9.59 1.41.59.51 0 1.02-.2 1.41-.59l7.78-7.78 2.81-2.81c.8-.78.8-2.07 0-2.86zM5.41 20L4 18.59l7.72-7.72 1.47 1.35L5.41 20z\"/>\n",
              "  </svg>\n",
              "      </button>\n",
              "      \n",
              "  <style>\n",
              "    .colab-df-container {\n",
              "      display:flex;\n",
              "      flex-wrap:wrap;\n",
              "      gap: 12px;\n",
              "    }\n",
              "\n",
              "    .colab-df-convert {\n",
              "      background-color: #E8F0FE;\n",
              "      border: none;\n",
              "      border-radius: 50%;\n",
              "      cursor: pointer;\n",
              "      display: none;\n",
              "      fill: #1967D2;\n",
              "      height: 32px;\n",
              "      padding: 0 0 0 0;\n",
              "      width: 32px;\n",
              "    }\n",
              "\n",
              "    .colab-df-convert:hover {\n",
              "      background-color: #E2EBFA;\n",
              "      box-shadow: 0px 1px 2px rgba(60, 64, 67, 0.3), 0px 1px 3px 1px rgba(60, 64, 67, 0.15);\n",
              "      fill: #174EA6;\n",
              "    }\n",
              "\n",
              "    [theme=dark] .colab-df-convert {\n",
              "      background-color: #3B4455;\n",
              "      fill: #D2E3FC;\n",
              "    }\n",
              "\n",
              "    [theme=dark] .colab-df-convert:hover {\n",
              "      background-color: #434B5C;\n",
              "      box-shadow: 0px 1px 3px 1px rgba(0, 0, 0, 0.15);\n",
              "      filter: drop-shadow(0px 1px 2px rgba(0, 0, 0, 0.3));\n",
              "      fill: #FFFFFF;\n",
              "    }\n",
              "  </style>\n",
              "\n",
              "      <script>\n",
              "        const buttonEl =\n",
              "          document.querySelector('#df-85cc76b0-ca1a-4ffd-9814-496baa68812a button.colab-df-convert');\n",
              "        buttonEl.style.display =\n",
              "          google.colab.kernel.accessAllowed ? 'block' : 'none';\n",
              "\n",
              "        async function convertToInteractive(key) {\n",
              "          const element = document.querySelector('#df-85cc76b0-ca1a-4ffd-9814-496baa68812a');\n",
              "          const dataTable =\n",
              "            await google.colab.kernel.invokeFunction('convertToInteractive',\n",
              "                                                     [key], {});\n",
              "          if (!dataTable) return;\n",
              "\n",
              "          const docLinkHtml = 'Like what you see? Visit the ' +\n",
              "            '<a target=\"_blank\" href=https://colab.research.google.com/notebooks/data_table.ipynb>data table notebook</a>'\n",
              "            + ' to learn more about interactive tables.';\n",
              "          element.innerHTML = '';\n",
              "          dataTable['output_type'] = 'display_data';\n",
              "          await google.colab.output.renderOutput(dataTable, element);\n",
              "          const docLink = document.createElement('div');\n",
              "          docLink.innerHTML = docLinkHtml;\n",
              "          element.appendChild(docLink);\n",
              "        }\n",
              "      </script>\n",
              "    </div>\n",
              "  </div>\n",
              "  "
            ]
          },
          "metadata": {},
          "execution_count": 268
        }
      ]
    },
    {
      "cell_type": "markdown",
      "source": [
        "###Findings##\n",
        "\n",
        "- This model shows some degree of underfitting as the loss and accuracy metrics for test data is worse than training data in most of the time of training\n",
        "- When training reaches the end, the testing data showed a better accuracy than training\n",
        "- We will try to address underfitting by increasing the complexity of this model"
      ],
      "metadata": {
        "id": "Njedy4Xe2uxf"
      }
    },
    {
      "cell_type": "markdown",
      "source": [
        "## Model 2: add more complexity\n",
        "\n",
        "- Add another hidden layer to the model"
      ],
      "metadata": {
        "id": "ukTAtTn8_qA4"
      }
    },
    {
      "cell_type": "code",
      "source": [
        "# create and compile the model\n",
        "model2 = keras.Sequential()\n",
        "model2.add(Dense(20, input_dim=X_train_proc.shape[1],\n",
        "          activation = 'relu'))\n",
        "model2.add(Dense(10, activation = 'relu'))\n",
        "model2.add(Dense(5, activation = 'relu'))\n",
        "model2.add(Dense(1, activation = 'linear'))\n",
        "\n",
        "model2.summary()"
      ],
      "metadata": {
        "colab": {
          "base_uri": "https://localhost:8080/"
        },
        "id": "XGVoHcwg_xP7",
        "outputId": "f18ae12b-c444-4bc9-d35f-c8d6e376acce"
      },
      "execution_count": 269,
      "outputs": [
        {
          "output_type": "stream",
          "name": "stdout",
          "text": [
            "Model: \"sequential_15\"\n",
            "_________________________________________________________________\n",
            " Layer (type)                Output Shape              Param #   \n",
            "=================================================================\n",
            " dense_49 (Dense)            (None, 20)                5100      \n",
            "                                                                 \n",
            " dense_50 (Dense)            (None, 10)                210       \n",
            "                                                                 \n",
            " dense_51 (Dense)            (None, 5)                 55        \n",
            "                                                                 \n",
            " dense_52 (Dense)            (None, 1)                 6         \n",
            "                                                                 \n",
            "=================================================================\n",
            "Total params: 5,371\n",
            "Trainable params: 5,371\n",
            "Non-trainable params: 0\n",
            "_________________________________________________________________\n"
          ]
        }
      ]
    },
    {
      "cell_type": "code",
      "source": [
        "# comple model 2\n",
        "model2.compile(loss='mse', optimizer='adam',\n",
        "                  metrics=[metrics.MeanAbsoluteError(),\n",
        "                           metrics.RootMeanSquaredError()])"
      ],
      "metadata": {
        "id": "AAWY2rR9AAEC"
      },
      "execution_count": 270,
      "outputs": []
    },
    {
      "cell_type": "code",
      "source": [
        "# fit your model\n",
        "history = model2.fit(X_train_proc, y_train,\n",
        "                        validation_data = (X_test_proc, y_test),\n",
        "                        epochs = 200,\n",
        "                        verbose=0)"
      ],
      "metadata": {
        "id": "5kI47bR1AD5n"
      },
      "execution_count": 271,
      "outputs": []
    },
    {
      "cell_type": "code",
      "source": [
        "# See how your model is doing\n",
        "plot_history(history)"
      ],
      "metadata": {
        "colab": {
          "base_uri": "https://localhost:8080/",
          "height": 809
        },
        "id": "NKNR_Fk3AMP-",
        "outputId": "5bfc1f89-f4d2-4c28-8932-a83ad6ebc8b5"
      },
      "execution_count": 272,
      "outputs": [
        {
          "output_type": "display_data",
          "data": {
            "text/plain": [
              "<Figure size 432x288 with 1 Axes>"
            ],
            "image/png": "[encoded data removed]"
          },
          "metadata": {
            "needs_background": "light"
          }
        },
        {
          "output_type": "display_data",
          "data": {
            "text/plain": [
              "<Figure size 432x288 with 1 Axes>"
            ],
            "image/png": "[encoded data removed]"
          },
          "metadata": {
            "needs_background": "light"
          }
        },
        {
          "output_type": "display_data",
          "data": {
            "text/plain": [
              "<Figure size 432x288 with 1 Axes>"
            ],
            "image/png": "[encoded data removed]"
          },
          "metadata": {
            "needs_background": "light"
          }
        }
      ]
    },
    {
      "cell_type": "code",
      "source": [
        "# get predictions\n",
        "train_preds = model2.predict(X_train_proc)\n",
        "test_preds = model2.predict(X_test_proc)"
      ],
      "metadata": {
        "colab": {
          "base_uri": "https://localhost:8080/"
        },
        "id": "X8UMV0T7ARdl",
        "outputId": "feed885c-0fb0-441c-8b41-29039dcba37f"
      },
      "execution_count": 273,
      "outputs": [
        {
          "output_type": "stream",
          "name": "stdout",
          "text": [
            "26/26 [==============================] - 0s 2ms/step\n",
            "9/9 [==============================] - 0s 3ms/step\n"
          ]
        }
      ]
    },
    {
      "cell_type": "code",
      "source": [
        "# inspect evaluation metrics\n",
        "result2_train = eval_regression(y_train, train_preds, name='Model 2 Train')\n",
        "result2_test = eval_regression(y_test, test_preds, name='Model 2 Test')\n",
        "\n",
        "frames = [result2_train, result2_test]\n",
        "result2 = pd.concat(frames)\n",
        "result2"
      ],
      "metadata": {
        "colab": {
          "base_uri": "https://localhost:8080/",
          "height": 112
        },
        "id": "EZ7EGRTFAVQ0",
        "outputId": "df2d82ce-9255-4347-82e4-09eaee6da3ec"
      },
      "execution_count": 274,
      "outputs": [
        {
          "output_type": "execute_result",
          "data": {
            "text/plain": [
              "      Model Name          RMSE           MAE        R2\n",
              "0  Model 2 Train  35433.799655  19158.199674  0.815707\n",
              "0   Model 2 Test  31595.453931  18482.093622  0.861332"
            ],
            "text/html": [
              "\n",
              "  <div id=\"df-611b170e-0279-49dd-b0ca-f0fe279d2e14\">\n",
              "    <div class=\"colab-df-container\">\n",
              "      <div>\n",
              "<style scoped>\n",
              "    .dataframe tbody tr th:only-of-type {\n",
              "        vertical-align: middle;\n",
              "    }\n",
              "\n",
              "    .dataframe tbody tr th {\n",
              "        vertical-align: top;\n",
              "    }\n",
              "\n",
              "    .dataframe thead th {\n",
              "        text-align: right;\n",
              "    }\n",
              "</style>\n",
              "<table border=\"1\" class=\"dataframe\">\n",
              "  <thead>\n",
              "    <tr style=\"text-align: right;\">\n",
              "      <th></th>\n",
              "      <th>Model Name</th>\n",
              "      <th>RMSE</th>\n",
              "      <th>MAE</th>\n",
              "      <th>R2</th>\n",
              "    </tr>\n",
              "  </thead>\n",
              "  <tbody>\n",
              "    <tr>\n",
              "      <th>0</th>\n",
              "      <td>Model 2 Train</td>\n",
              "      <td>35433.799655</td>\n",
              "      <td>19158.199674</td>\n",
              "      <td>0.815707</td>\n",
              "    </tr>\n",
              "    <tr>\n",
              "      <th>0</th>\n",
              "      <td>Model 2 Test</td>\n",
              "      <td>31595.453931</td>\n",
              "      <td>18482.093622</td>\n",
              "      <td>0.861332</td>\n",
              "    </tr>\n",
              "  </tbody>\n",
              "</table>\n",
              "</div>\n",
              "      <button class=\"colab-df-convert\" onclick=\"convertToInteractive('df-611b170e-0279-49dd-b0ca-f0fe279d2e14')\"\n",
              "              title=\"Convert this dataframe to an interactive table.\"\n",
              "              style=\"display:none;\">\n",
              "        \n",
              "  <svg xmlns=\"http://www.w3.org/2000/svg\" height=\"24px\"viewBox=\"0 0 24 24\"\n",
              "       width=\"24px\">\n",
              "    <path d=\"M0 0h24v24H0V0z\" fill=\"none\"/>\n",
              "    <path d=\"M18.56 5.44l.94 2.06.94-2.06 2.06-.94-2.06-.94-.94-2.06-.94 2.06-2.06.94zm-11 1L8.5 8.5l.94-2.06 2.06-.94-2.06-.94L8.5 2.5l-.94 2.06-2.06.94zm10 10l.94 2.06.94-2.06 2.06-.94-2.06-.94-.94-2.06-.94 2.06-2.06.94z\"/><path d=\"M17.41 7.96l-1.37-1.37c-.4-.4-.92-.59-1.43-.59-.52 0-1.04.2-1.43.59L10.3 9.45l-7.72 7.72c-.78.78-.78 2.05 0 2.83L4 21.41c.39.39.9.59 1.41.59.51 0 1.02-.2 1.41-.59l7.78-7.78 2.81-2.81c.8-.78.8-2.07 0-2.86zM5.41 20L4 18.59l7.72-7.72 1.47 1.35L5.41 20z\"/>\n",
              "  </svg>\n",
              "      </button>\n",
              "      \n",
              "  <style>\n",
              "    .colab-df-container {\n",
              "      display:flex;\n",
              "      flex-wrap:wrap;\n",
              "      gap: 12px;\n",
              "    }\n",
              "\n",
              "    .colab-df-convert {\n",
              "      background-color: #E8F0FE;\n",
              "      border: none;\n",
              "      border-radius: 50%;\n",
              "      cursor: pointer;\n",
              "      display: none;\n",
              "      fill: #1967D2;\n",
              "      height: 32px;\n",
              "      padding: 0 0 0 0;\n",
              "      width: 32px;\n",
              "    }\n",
              "\n",
              "    .colab-df-convert:hover {\n",
              "      background-color: #E2EBFA;\n",
              "      box-shadow: 0px 1px 2px rgba(60, 64, 67, 0.3), 0px 1px 3px 1px rgba(60, 64, 67, 0.15);\n",
              "      fill: #174EA6;\n",
              "    }\n",
              "\n",
              "    [theme=dark] .colab-df-convert {\n",
              "      background-color: #3B4455;\n",
              "      fill: #D2E3FC;\n",
              "    }\n",
              "\n",
              "    [theme=dark] .colab-df-convert:hover {\n",
              "      background-color: #434B5C;\n",
              "      box-shadow: 0px 1px 3px 1px rgba(0, 0, 0, 0.15);\n",
              "      filter: drop-shadow(0px 1px 2px rgba(0, 0, 0, 0.3));\n",
              "      fill: #FFFFFF;\n",
              "    }\n",
              "  </style>\n",
              "\n",
              "      <script>\n",
              "        const buttonEl =\n",
              "          document.querySelector('#df-611b170e-0279-49dd-b0ca-f0fe279d2e14 button.colab-df-convert');\n",
              "        buttonEl.style.display =\n",
              "          google.colab.kernel.accessAllowed ? 'block' : 'none';\n",
              "\n",
              "        async function convertToInteractive(key) {\n",
              "          const element = document.querySelector('#df-611b170e-0279-49dd-b0ca-f0fe279d2e14');\n",
              "          const dataTable =\n",
              "            await google.colab.kernel.invokeFunction('convertToInteractive',\n",
              "                                                     [key], {});\n",
              "          if (!dataTable) return;\n",
              "\n",
              "          const docLinkHtml = 'Like what you see? Visit the ' +\n",
              "            '<a target=\"_blank\" href=https://colab.research.google.com/notebooks/data_table.ipynb>data table notebook</a>'\n",
              "            + ' to learn more about interactive tables.';\n",
              "          element.innerHTML = '';\n",
              "          dataTable['output_type'] = 'display_data';\n",
              "          await google.colab.output.renderOutput(dataTable, element);\n",
              "          const docLink = document.createElement('div');\n",
              "          docLink.innerHTML = docLinkHtml;\n",
              "          element.appendChild(docLink);\n",
              "        }\n",
              "      </script>\n",
              "    </div>\n",
              "  </div>\n",
              "  "
            ]
          },
          "metadata": {},
          "execution_count": 274
        }
      ]
    },
    {
      "cell_type": "markdown",
      "source": [
        "###**Findings**\n",
        "\n",
        "- The model performance improved by adding another hidden layer in the model\n",
        "- Loss and accuracy metrics change in a similar pattern but quickly dropped near `epoch = 50`\n",
        "- We may consider stopping the training early to avoid over-training"
      ],
      "metadata": {
        "id": "oxFDcuGHA24M"
      }
    },
    {
      "cell_type": "markdown",
      "source": [
        "## Model 3: early stopping"
      ],
      "metadata": {
        "id": "Fe7rNuRDBO-X"
      }
    },
    {
      "cell_type": "code",
      "source": [
        "# create and compile the model\n",
        "model3 = keras.Sequential()\n",
        "model3.add(Dense(20, input_dim=X_train_proc.shape[1],\n",
        "          activation = 'relu'))\n",
        "model3.add(Dense(10, activation = 'relu'))\n",
        "model3.add(Dense(5, activation = 'relu'))\n",
        "model3.add(Dense(1, activation = 'linear'))\n",
        "\n",
        "model3.summary()"
      ],
      "metadata": {
        "colab": {
          "base_uri": "https://localhost:8080/"
        },
        "id": "g5EAohcpBb8w",
        "outputId": "937a1a74-8598-4ef0-9939-238f89110b58"
      },
      "execution_count": 275,
      "outputs": [
        {
          "output_type": "stream",
          "name": "stdout",
          "text": [
            "Model: \"sequential_16\"\n",
            "_________________________________________________________________\n",
            " Layer (type)                Output Shape              Param #   \n",
            "=================================================================\n",
            " dense_53 (Dense)            (None, 20)                5100      \n",
            "                                                                 \n",
            " dense_54 (Dense)            (None, 10)                210       \n",
            "                                                                 \n",
            " dense_55 (Dense)            (None, 5)                 55        \n",
            "                                                                 \n",
            " dense_56 (Dense)            (None, 1)                 6         \n",
            "                                                                 \n",
            "=================================================================\n",
            "Total params: 5,371\n",
            "Trainable params: 5,371\n",
            "Non-trainable params: 0\n",
            "_________________________________________________________________\n"
          ]
        }
      ]
    },
    {
      "cell_type": "code",
      "source": [
        "# comple model 3\n",
        "model3.compile(loss='mse', optimizer='adam',\n",
        "                  metrics=[metrics.MeanAbsoluteError(),\n",
        "                           metrics.RootMeanSquaredError()])"
      ],
      "metadata": {
        "id": "DLRI0SYIBkFj"
      },
      "execution_count": 276,
      "outputs": []
    },
    {
      "cell_type": "code",
      "source": [
        "# fit your model\n",
        "early_stopping = EarlyStopping(patience = 5)\n",
        "\n",
        "history = model3.fit(X_train_proc, y_train,\n",
        "                        validation_data = (X_test_proc, y_test),\n",
        "                        epochs = 200,\n",
        "                        callbacks = [early_stopping],\n",
        "                        verbose=0)"
      ],
      "metadata": {
        "id": "PsVxACD_Bo3A"
      },
      "execution_count": 277,
      "outputs": []
    },
    {
      "cell_type": "code",
      "source": [
        "# See how your model is doing\n",
        "plot_history(history)"
      ],
      "metadata": {
        "colab": {
          "base_uri": "https://localhost:8080/",
          "height": 809
        },
        "id": "PSo3NPqQCASZ",
        "outputId": "32b2c3c8-d741-4bc8-db2f-06809f127c5b"
      },
      "execution_count": 278,
      "outputs": [
        {
          "output_type": "display_data",
          "data": {
            "text/plain": [
              "<Figure size 432x288 with 1 Axes>"
            ],
            "image/png": "[encoded data removed]"
          },
          "metadata": {
            "needs_background": "light"
          }
        },
        {
          "output_type": "display_data",
          "data": {
            "text/plain": [
              "<Figure size 432x288 with 1 Axes>"
            ],
            "image/png": "[encoded data removed]"
          },
          "metadata": {
            "needs_background": "light"
          }
        },
        {
          "output_type": "display_data",
          "data": {
            "text/plain": [
              "<Figure size 432x288 with 1 Axes>"
            ],
            "image/png": "[encoded data removed]"
          },
          "metadata": {
            "needs_background": "light"
          }
        }
      ]
    },
    {
      "cell_type": "code",
      "source": [
        "# get predictions\n",
        "train_preds = model3.predict(X_train_proc)\n",
        "test_preds = model3.predict(X_test_proc)"
      ],
      "metadata": {
        "colab": {
          "base_uri": "https://localhost:8080/"
        },
        "id": "wbfOWnmNCks1",
        "outputId": "414b1a7d-25ec-4e7d-b0a8-18a080a7f731"
      },
      "execution_count": 279,
      "outputs": [
        {
          "output_type": "stream",
          "name": "stdout",
          "text": [
            "26/26 [==============================] - 0s 1ms/step\n",
            "9/9 [==============================] - 0s 2ms/step\n"
          ]
        }
      ]
    },
    {
      "cell_type": "code",
      "source": [
        "# inspect evaluation metrics\n",
        "result3_train = eval_regression(y_train, train_preds, name='Model 3 Train')\n",
        "result3_test = eval_regression(y_test, test_preds, name='Model 3 Test')\n",
        "\n",
        "frames = [result3_train, result3_test]\n",
        "result3 = pd.concat(frames)\n",
        "result3"
      ],
      "metadata": {
        "colab": {
          "base_uri": "https://localhost:8080/",
          "height": 112
        },
        "id": "yrcnopMzCohY",
        "outputId": "016a77a5-6ea9-482e-f9c5-b779473c8d4a"
      },
      "execution_count": 280,
      "outputs": [
        {
          "output_type": "execute_result",
          "data": {
            "text/plain": [
              "      Model Name          RMSE           MAE        R2\n",
              "0  Model 3 Train  37067.410171  20478.233363  0.798322\n",
              "0   Model 3 Test  33423.816412  19600.239023  0.844818"
            ],
            "text/html": [
              "\n",
              "  <div id=\"df-d5f8fb24-0685-45cc-aa4c-6db3c7ecb9e5\">\n",
              "    <div class=\"colab-df-container\">\n",
              "      <div>\n",
              "<style scoped>\n",
              "    .dataframe tbody tr th:only-of-type {\n",
              "        vertical-align: middle;\n",
              "    }\n",
              "\n",
              "    .dataframe tbody tr th {\n",
              "        vertical-align: top;\n",
              "    }\n",
              "\n",
              "    .dataframe thead th {\n",
              "        text-align: right;\n",
              "    }\n",
              "</style>\n",
              "<table border=\"1\" class=\"dataframe\">\n",
              "  <thead>\n",
              "    <tr style=\"text-align: right;\">\n",
              "      <th></th>\n",
              "      <th>Model Name</th>\n",
              "      <th>RMSE</th>\n",
              "      <th>MAE</th>\n",
              "      <th>R2</th>\n",
              "    </tr>\n",
              "  </thead>\n",
              "  <tbody>\n",
              "    <tr>\n",
              "      <th>0</th>\n",
              "      <td>Model 3 Train</td>\n",
              "      <td>37067.410171</td>\n",
              "      <td>20478.233363</td>\n",
              "      <td>0.798322</td>\n",
              "    </tr>\n",
              "    <tr>\n",
              "      <th>0</th>\n",
              "      <td>Model 3 Test</td>\n",
              "      <td>33423.816412</td>\n",
              "      <td>19600.239023</td>\n",
              "      <td>0.844818</td>\n",
              "    </tr>\n",
              "  </tbody>\n",
              "</table>\n",
              "</div>\n",
              "      <button class=\"colab-df-convert\" onclick=\"convertToInteractive('df-d5f8fb24-0685-45cc-aa4c-6db3c7ecb9e5')\"\n",
              "              title=\"Convert this dataframe to an interactive table.\"\n",
              "              style=\"display:none;\">\n",
              "        \n",
              "  <svg xmlns=\"http://www.w3.org/2000/svg\" height=\"24px\"viewBox=\"0 0 24 24\"\n",
              "       width=\"24px\">\n",
              "    <path d=\"M0 0h24v24H0V0z\" fill=\"none\"/>\n",
              "    <path d=\"M18.56 5.44l.94 2.06.94-2.06 2.06-.94-2.06-.94-.94-2.06-.94 2.06-2.06.94zm-11 1L8.5 8.5l.94-2.06 2.06-.94-2.06-.94L8.5 2.5l-.94 2.06-2.06.94zm10 10l.94 2.06.94-2.06 2.06-.94-2.06-.94-.94-2.06-.94 2.06-2.06.94z\"/><path d=\"M17.41 7.96l-1.37-1.37c-.4-.4-.92-.59-1.43-.59-.52 0-1.04.2-1.43.59L10.3 9.45l-7.72 7.72c-.78.78-.78 2.05 0 2.83L4 21.41c.39.39.9.59 1.41.59.51 0 1.02-.2 1.41-.59l7.78-7.78 2.81-2.81c.8-.78.8-2.07 0-2.86zM5.41 20L4 18.59l7.72-7.72 1.47 1.35L5.41 20z\"/>\n",
              "  </svg>\n",
              "      </button>\n",
              "      \n",
              "  <style>\n",
              "    .colab-df-container {\n",
              "      display:flex;\n",
              "      flex-wrap:wrap;\n",
              "      gap: 12px;\n",
              "    }\n",
              "\n",
              "    .colab-df-convert {\n",
              "      background-color: #E8F0FE;\n",
              "      border: none;\n",
              "      border-radius: 50%;\n",
              "      cursor: pointer;\n",
              "      display: none;\n",
              "      fill: #1967D2;\n",
              "      height: 32px;\n",
              "      padding: 0 0 0 0;\n",
              "      width: 32px;\n",
              "    }\n",
              "\n",
              "    .colab-df-convert:hover {\n",
              "      background-color: #E2EBFA;\n",
              "      box-shadow: 0px 1px 2px rgba(60, 64, 67, 0.3), 0px 1px 3px 1px rgba(60, 64, 67, 0.15);\n",
              "      fill: #174EA6;\n",
              "    }\n",
              "\n",
              "    [theme=dark] .colab-df-convert {\n",
              "      background-color: #3B4455;\n",
              "      fill: #D2E3FC;\n",
              "    }\n",
              "\n",
              "    [theme=dark] .colab-df-convert:hover {\n",
              "      background-color: #434B5C;\n",
              "      box-shadow: 0px 1px 3px 1px rgba(0, 0, 0, 0.15);\n",
              "      filter: drop-shadow(0px 1px 2px rgba(0, 0, 0, 0.3));\n",
              "      fill: #FFFFFF;\n",
              "    }\n",
              "  </style>\n",
              "\n",
              "      <script>\n",
              "        const buttonEl =\n",
              "          document.querySelector('#df-d5f8fb24-0685-45cc-aa4c-6db3c7ecb9e5 button.colab-df-convert');\n",
              "        buttonEl.style.display =\n",
              "          google.colab.kernel.accessAllowed ? 'block' : 'none';\n",
              "\n",
              "        async function convertToInteractive(key) {\n",
              "          const element = document.querySelector('#df-d5f8fb24-0685-45cc-aa4c-6db3c7ecb9e5');\n",
              "          const dataTable =\n",
              "            await google.colab.kernel.invokeFunction('convertToInteractive',\n",
              "                                                     [key], {});\n",
              "          if (!dataTable) return;\n",
              "\n",
              "          const docLinkHtml = 'Like what you see? Visit the ' +\n",
              "            '<a target=\"_blank\" href=https://colab.research.google.com/notebooks/data_table.ipynb>data table notebook</a>'\n",
              "            + ' to learn more about interactive tables.';\n",
              "          element.innerHTML = '';\n",
              "          dataTable['output_type'] = 'display_data';\n",
              "          await google.colab.output.renderOutput(dataTable, element);\n",
              "          const docLink = document.createElement('div');\n",
              "          docLink.innerHTML = docLinkHtml;\n",
              "          element.appendChild(docLink);\n",
              "        }\n",
              "      </script>\n",
              "    </div>\n",
              "  </div>\n",
              "  "
            ]
          },
          "metadata": {},
          "execution_count": 280
        }
      ]
    },
    {
      "cell_type": "markdown",
      "source": [
        "###**Findings**\n",
        "\n",
        "- By adding early stopping, we not only reduced the time to train the model, but also improved the model performance"
      ],
      "metadata": {
        "id": "CiDByzMdC226"
      }
    },
    {
      "cell_type": "markdown",
      "source": [
        "## Best model\n",
        "\n",
        "- The best model we have tried by far is a model with three hidden layers and early stopping option (**Model 3**)"
      ],
      "metadata": {
        "id": "bmBwPToqC-Z8"
      }
    },
    {
      "cell_type": "code",
      "source": [
        "# show the model details\n",
        "model3 = keras.Sequential()\n",
        "model3.add(Dense(20, input_dim=X_train_proc.shape[1],\n",
        "          activation = 'relu'))\n",
        "model3.add(Dense(10, activation = 'relu'))\n",
        "model3.add(Dense(5, activation = 'relu'))\n",
        "model3.add(Dense(1, activation = 'linear'))\n",
        "\n",
        "model3.summary()"
      ],
      "metadata": {
        "colab": {
          "base_uri": "https://localhost:8080/"
        },
        "id": "3kiFbe4NDNdj",
        "outputId": "9c4cb941-4a08-4065-de1f-eb10384ed0ca"
      },
      "execution_count": 281,
      "outputs": [
        {
          "output_type": "stream",
          "name": "stdout",
          "text": [
            "Model: \"sequential_17\"\n",
            "_________________________________________________________________\n",
            " Layer (type)                Output Shape              Param #   \n",
            "=================================================================\n",
            " dense_57 (Dense)            (None, 20)                5100      \n",
            "                                                                 \n",
            " dense_58 (Dense)            (None, 10)                210       \n",
            "                                                                 \n",
            " dense_59 (Dense)            (None, 5)                 55        \n",
            "                                                                 \n",
            " dense_60 (Dense)            (None, 1)                 6         \n",
            "                                                                 \n",
            "=================================================================\n",
            "Total params: 5,371\n",
            "Trainable params: 5,371\n",
            "Non-trainable params: 0\n",
            "_________________________________________________________________\n"
          ]
        }
      ]
    },
    {
      "cell_type": "markdown",
      "source": [
        "## Test with `test.csv`"
      ],
      "metadata": {
        "id": "2CHQzyh95gp-"
      }
    },
    {
      "cell_type": "code",
      "source": [
        "# load data\n",
        "test_url = 'https://drive.google.com/file/d/1pXk57gDMMjGvhDNklk1Q27lyaMb_jLw2/view?usp=share_link'\n",
        "test_url='https://drive.google.com/uc?id=' + test_url.split('/')[-2]\n",
        "\n",
        "df_test = pd.read_csv(test_url, index_col=[0])"
      ],
      "metadata": {
        "id": "THcluU6b59aN"
      },
      "execution_count": 282,
      "outputs": []
    },
    {
      "cell_type": "code",
      "source": [
        "# remove columns\n",
        "X = df_test.drop(columns = cols_rm)\n",
        "X.shape"
      ],
      "metadata": {
        "colab": {
          "base_uri": "https://localhost:8080/"
        },
        "id": "r0Gl-iJx7yXr",
        "outputId": "9fd02ab0-6965-424d-ecc9-7b7668f0d879"
      },
      "execution_count": 283,
      "outputs": [
        {
          "output_type": "execute_result",
          "data": {
            "text/plain": [
              "(1459, 74)"
            ]
          },
          "metadata": {},
          "execution_count": 283
        }
      ]
    },
    {
      "cell_type": "code",
      "source": [
        "# apply preprocessor\n",
        "X_proc = processor.transform(X)\n",
        "X_proc.shape"
      ],
      "metadata": {
        "colab": {
          "base_uri": "https://localhost:8080/"
        },
        "id": "pwXq_p3t7-aI",
        "outputId": "80af14c8-d6ec-4ec6-c9bc-ab1ab8e2ba93"
      },
      "execution_count": 284,
      "outputs": [
        {
          "output_type": "execute_result",
          "data": {
            "text/plain": [
              "(1459, 254)"
            ]
          },
          "metadata": {},
          "execution_count": 284
        }
      ]
    },
    {
      "cell_type": "code",
      "source": [
        "# calculate predictions\n",
        "y_preds = model3.predict(X_proc)\n",
        "y_preds"
      ],
      "metadata": {
        "colab": {
          "base_uri": "https://localhost:8080/"
        },
        "id": "utIht4Sm9XlX",
        "outputId": "934969ef-cd6e-4a22-b37b-9aa58f0f04a3"
      },
      "execution_count": 285,
      "outputs": [
        {
          "output_type": "stream",
          "name": "stdout",
          "text": [
            "46/46 [==============================] - 0s 1ms/step\n"
          ]
        },
        {
          "output_type": "execute_result",
          "data": {
            "text/plain": [
              "array([[0.583699  ],\n",
              "       [1.1433493 ],\n",
              "       [0.27380037],\n",
              "       ...,\n",
              "       [0.27795428],\n",
              "       [0.6317415 ],\n",
              "       [0.20289189]], dtype=float32)"
            ]
          },
          "metadata": {},
          "execution_count": 285
        }
      ]
    },
    {
      "cell_type": "markdown",
      "source": [
        "# Reference\n",
        "\n",
        "- This notebook used some code from the following materials\n",
        "  - [Week 10 Lecture 2 Feature Engineering](https://github.com/coding-dojo-data-science/week-10-lecture-2-feature-engineering/blob/11-7-22/SOLUTION%20Feature%20Engineering%20Code-along.ipynb)\n",
        "  - [Week 11 Lecture 2 Code-along Tuning deep learning models](https://github.com/coding-dojo-data-science/week-11-lecture-2-tuning-deep-learning-models/blob/main/SOLUTIONS%20Code-along%20Tuning%20Neural%20Networks.ipynb)\n",
        "  - [Week 11 Lecture 2 Challenge Tuning deep learning models](https://github.com/coding-dojo-data-science/week-11-lecture-2-tuning-deep-learning-models/blob/main/SOLUTIONS%20Challenge_%20Tuning%20Neural%20Networks.ipynb)"
      ],
      "metadata": {
        "id": "gFQJ1VoTf7M4"
      }
    }
  ],
  "metadata": {
    "colab": {
      "provenance": [],
      "toc_visible": true,
      "include_colab_link": true
    },
    "kernelspec": {
      "display_name": "Python 3 (ipykernel)",
      "language": "python",
      "name": "python3"
    },
    "language_info": {
      "codemirror_mode": {
        "name": "ipython",
        "version": 3
      },
      "file_extension": ".py",
      "mimetype": "text/x-python",
      "name": "python",
      "nbconvert_exporter": "python",
      "pygments_lexer": "ipython3",
      "version": "3.9.15"
    },
    "toc": {
      "base_numbering": 1,
      "nav_menu": {},
      "number_sections": true,
      "sideBar": true,
      "skip_h1_title": false,
      "title_cell": "Table of Contents",
      "title_sidebar": "Contents",
      "toc_cell": false,
      "toc_position": {},
      "toc_section_display": true,
      "toc_window_display": false
    }
  },
  "nbformat": 4,
  "nbformat_minor": 0
}